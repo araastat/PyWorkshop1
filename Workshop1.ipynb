{
 "metadata": {
  "name": ""
 },
 "nbformat": 3,
 "nbformat_minor": 0,
 "worksheets": [
  {
   "cells": [
    {
     "cell_type": "heading",
     "level": 1,
     "metadata": {
      "slideshow": {
       "slide_type": "slide"
      }
     },
     "source": [
      "Python Data Analysis 1"
     ]
    },
    {
     "cell_type": "heading",
     "level": 2,
     "metadata": {},
     "source": [
      "Why Python?"
     ]
    },
    {
     "cell_type": "markdown",
     "metadata": {},
     "source": [
      "Python is one of the most popular general-purpose scripting languages in use today. It has over *40K* user-contributed packages for various purposes, including software prototyping and development, GUI development, web programming and scientific programming (about 2400). It is one of the best \"glue\" languages, that can link together functionalities from different software platforms. "
     ]
    },
    {
     "cell_type": "heading",
     "level": 2,
     "metadata": {},
     "source": [
      "Why are we here today? (a.k.a., History of PyData (2014))"
     ]
    },
    {
     "cell_type": "markdown",
     "metadata": {},
     "source": [
      "* Numpy (starting life as Numeric), c. 1995\n",
      "* Scipy (2001)\n",
      "* Matplotlib (early 2000s)\n",
      "* Sympy (2007)\n",
      "\n",
      "These formed the core of the Python Data Stack. They were meant to be an open-source replacement for **Matlab**, targeting engineers and *numerical* data. \n",
      "\n",
      "Matlab and its clones are great for engineering work and pure numerical problems, but, as we know, data is not just numeric. \n",
      "\n",
      "* It can be strings/characters, hash tables, times, images, sounds.  \n",
      "* It can be stored in \n",
      "    * text files (as csv, json, XML, HTML), \n",
      "    * relational databases (SQL in its many versions), \n",
      "    * NoSQL databases,\n",
      "    * ...\n",
      "\n",
      "What we do with data is also not just pure mathematical manipulation and analysis. It includes\n",
      "\n",
      "* Statistical modeling\n",
      "* Predictive modeling\n",
      "* Simulation\n",
      "* Visualization\n",
      "* Reporting\n",
      "\n",
      "More was needed in Python to unify the capabilities for dealing with and analyzing the kinds of data we see today. In particular, we would need:\n",
      "\n",
      "1. A container for heterogeneous data types that can be easily manipulated\n",
      "    - allowing for metadata (labeling rows and columns, referencing by labels)\n",
      "    - allowing for manipulation using array or label or component syntax\n",
      "2. Easy handling of missing data\n",
      "    - Simple imputation\n",
      "    - Extracting complete or partially complete cases\n",
      "    - Masked arrays available in numpy, but awkward\n",
      "3. Data munging\n",
      "    - reshaping data from wide to long and v.v.\n",
      "    - subsetting\n",
      "    - split-apply-combine\n",
      "    - aggregation\n",
      "4. Easy exploratory analysis\n",
      "5. Statistical modeling and machine learning"
     ]
    },
    {
     "cell_type": "heading",
     "level": 3,
     "metadata": {},
     "source": [
      "pandas (Python Data Analysis Library) [web](http://pandas.pydata.org)"
     ]
    },
    {
     "cell_type": "markdown",
     "metadata": {},
     "source": [
      "<code>pandas</code> changed the way data analysis is performed in Python. It makes importing data, and data munging, much much easier. It is built on top of <code>numpy</code>, but it is much easier to use. This is where we will begin our data analytic journey. We will be using version 0.13.1, released in February.\n",
      "\n",
      "- Puts R in the bullseye\n",
      "- Wants to emulate R's capabilites in a more efficient computing environment\n",
      "- Provide a rich data analysis environment that can be easily integrated into production and web infrastructures"
     ]
    },
    {
     "cell_type": "heading",
     "level": 1,
     "metadata": {},
     "source": [
      "A Python Primer"
     ]
    },
    {
     "cell_type": "heading",
     "level": 3,
     "metadata": {},
     "source": [
      "A calculator"
     ]
    },
    {
     "cell_type": "code",
     "collapsed": false,
     "input": [
      "from __future__ import division"
     ],
     "language": "python",
     "metadata": {},
     "outputs": [],
     "prompt_number": 5
    },
    {
     "cell_type": "code",
     "collapsed": false,
     "input": [
      "2+2"
     ],
     "language": "python",
     "metadata": {},
     "outputs": []
    },
    {
     "cell_type": "code",
     "collapsed": false,
     "input": [
      "2**3"
     ],
     "language": "python",
     "metadata": {},
     "outputs": []
    },
    {
     "cell_type": "code",
     "collapsed": false,
     "input": [
      "17/3"
     ],
     "language": "python",
     "metadata": {},
     "outputs": []
    },
    {
     "cell_type": "code",
     "collapsed": false,
     "input": [
      "17//3"
     ],
     "language": "python",
     "metadata": {},
     "outputs": []
    },
    {
     "cell_type": "heading",
     "level": 3,
     "metadata": {},
     "source": [
      "Lists"
     ]
    },
    {
     "cell_type": "raw",
     "metadata": {},
     "source": [
      "x = [1,2,3,4,5,6]\n",
      "x"
     ]
    },
    {
     "cell_type": "raw",
     "metadata": {},
     "source": [
      "x = range(6)\n",
      "x"
     ]
    },
    {
     "cell_type": "raw",
     "metadata": {},
     "source": [
      "y = [3,10,'Apple',[2,3]]\n",
      "print(y[0])\n",
      "print(y[2])\n",
      "print(y[3])"
     ]
    },
    {
     "cell_type": "markdown",
     "metadata": {},
     "source": [
      "List comprehensions"
     ]
    },
    {
     "cell_type": "raw",
     "metadata": {},
     "source": [
      "[u for u in x if u%2 ==0]"
     ]
    },
    {
     "cell_type": "raw",
     "metadata": {},
     "source": [
      "[u for u in x if u%2==1]"
     ]
    },
    {
     "cell_type": "heading",
     "level": 3,
     "metadata": {},
     "source": [
      "Loops"
     ]
    },
    {
     "cell_type": "raw",
     "metadata": {},
     "source": [
      "x = [3,5,8,14]\n",
      "sum = 0\n",
      "for u in x:\n",
      "    sum = sum+u\n",
      "print(sum)"
     ]
    },
    {
     "cell_type": "heading",
     "level": 3,
     "metadata": {},
     "source": [
      "Functions"
     ]
    },
    {
     "cell_type": "raw",
     "metadata": {},
     "source": [
      "def fib(n):\n",
      "    a, b = 0, 1\n",
      "    while a < n:\n",
      "        print(a)\n",
      "        a, b = b, a+b\n",
      "    print()\n",
      "\n",
      "fib(1000)"
     ]
    },
    {
     "cell_type": "heading",
     "level": 3,
     "metadata": {},
     "source": [
      "More object types"
     ]
    },
    {
     "cell_type": "heading",
     "level": 4,
     "metadata": {},
     "source": [
      "Strings"
     ]
    },
    {
     "cell_type": "code",
     "collapsed": false,
     "input": [
      "a = 'Every'\n",
      "b = 'good'\n",
      "c = 'boy'\n",
      "d = 'does'\n",
      "e = 'fine'"
     ],
     "language": "python",
     "metadata": {},
     "outputs": [],
     "prompt_number": 13
    },
    {
     "cell_type": "code",
     "collapsed": false,
     "input": [
      "a+' '+b+' '+c"
     ],
     "language": "python",
     "metadata": {},
     "outputs": [
      {
       "metadata": {},
       "output_type": "pyout",
       "prompt_number": 16,
       "text": [
        "'Every good boy'"
       ]
      }
     ],
     "prompt_number": 16
    },
    {
     "cell_type": "code",
     "collapsed": false,
     "input": [
      "' '.join([a,b,c,d,e])"
     ],
     "language": "python",
     "metadata": {},
     "outputs": [
      {
       "metadata": {},
       "output_type": "pyout",
       "prompt_number": 17,
       "text": [
        "'Every good boy does fine'"
       ]
      }
     ],
     "prompt_number": 17
    },
    {
     "cell_type": "markdown",
     "metadata": {},
     "source": [
      "This is an example of object orientation in Python. ' ' is an object that has a function <code>join</code> attached to it. "
     ]
    },
    {
     "cell_type": "markdown",
     "metadata": {},
     "source": [
      "The character '.' has special meaning in Python, so **DON'T** use it in variable names. It is used to denote a hierarchical object structure in Python, as we shall soon see."
     ]
    },
    {
     "cell_type": "heading",
     "level": 4,
     "metadata": {},
     "source": [
      "Dicts"
     ]
    },
    {
     "cell_type": "code",
     "collapsed": false,
     "input": [
      "me = {\"First Name\": 'Abhijit', \"Last Name\": 'Dasgupta','Age':42, 'Sex':'M','Height':175}\n",
      "print(me['First Name'])\n",
      "print(me['Age'])\n"
     ],
     "language": "python",
     "metadata": {},
     "outputs": [
      {
       "output_type": "stream",
       "stream": "stdout",
       "text": [
        "Abhijit\n",
        "42\n"
       ]
      },
      {
       "metadata": {},
       "output_type": "pyout",
       "prompt_number": 23,
       "text": [
        "['Dasgupta', 'Abhijit', 42, 175, 'M']"
       ]
      }
     ],
     "prompt_number": 23
    },
    {
     "cell_type": "heading",
     "level": 4,
     "metadata": {},
     "source": [
      "Tuples"
     ]
    },
    {
     "cell_type": "code",
     "collapsed": false,
     "input": [
      "constants = (3.1415, 2.2306)"
     ],
     "language": "python",
     "metadata": {},
     "outputs": [],
     "prompt_number": 19
    },
    {
     "cell_type": "markdown",
     "metadata": {},
     "source": [
      "Tuples are like lists, but they are *immutable*, i.e., you can't change them on the fly"
     ]
    },
    {
     "cell_type": "code",
     "collapsed": false,
     "input": [
      "constants[0]=1"
     ],
     "language": "python",
     "metadata": {},
     "outputs": [
      {
       "ename": "TypeError",
       "evalue": "'tuple' object does not support item assignment",
       "output_type": "pyerr",
       "traceback": [
        "\u001b[0;31m---------------------------------------------------------------------------\u001b[0m\n\u001b[0;31mTypeError\u001b[0m                                 Traceback (most recent call last)",
        "\u001b[0;32m<ipython-input-20-0a2a1dc8db73>\u001b[0m in \u001b[0;36m<module>\u001b[0;34m()\u001b[0m\n\u001b[0;32m----> 1\u001b[0;31m \u001b[0mconstants\u001b[0m\u001b[0;34m[\u001b[0m\u001b[0;36m0\u001b[0m\u001b[0;34m]\u001b[0m\u001b[0;34m=\u001b[0m\u001b[0;36m1\u001b[0m\u001b[0;34m\u001b[0m\u001b[0m\n\u001b[0m",
        "\u001b[0;31mTypeError\u001b[0m: 'tuple' object does not support item assignment"
       ]
      }
     ],
     "prompt_number": 20
    },
    {
     "cell_type": "heading",
     "level": 3,
     "metadata": {},
     "source": [
      "Python packages"
     ]
    },
    {
     "cell_type": "markdown",
     "metadata": {},
     "source": [
      "Python follows a packaging system, that can be accessed at [PyPi](http://pypi.python.org/pypi). Anaconda provides an easy interface to install packages into your system related to scientific computing."
     ]
    },
    {
     "cell_type": "raw",
     "metadata": {},
     "source": [
      "> conda install nltk"
     ]
    },
    {
     "cell_type": "markdown",
     "metadata": {},
     "source": [
      "Python itself has a couple of nice methods for installing packages, namely **pip** and **easy_install**. Both are available in your installation and are general purpose tools for installing packages"
     ]
    },
    {
     "cell_type": "raw",
     "metadata": {},
     "source": [
      "> pip install fastcluster"
     ]
    },
    {
     "cell_type": "raw",
     "metadata": {},
     "source": [
      "> easy_install fastcluster"
     ]
    },
    {
     "cell_type": "markdown",
     "metadata": {},
     "source": [
      "We will be using several Python packages related to data analysis. However, there are several general packages that are extremely useful and should be in your toolbox for general scripting, file manipulation and the like.\n",
      "\n",
      "- os (operating system functions)\n",
      "- shutil (file manipulation)\n",
      "- re (regular expressions)\n",
      "- zipfile and tarfile (Dealing with compressed archives)\n",
      "\n",
      "You should also strongly consider using [IPython](http://www.ipython.org) which provides interactive shells, a web notebook (you're looking at it), and high performance tools for parallel computing"
     ]
    },
    {
     "cell_type": "heading",
     "level": 2,
     "metadata": {},
     "source": [
      "Some expectation setting"
     ]
    },
    {
     "cell_type": "markdown",
     "metadata": {},
     "source": [
      "What to expect\n",
      "\n",
      "- Overview of Python data analysis tools\n",
      "- Hands-on examples\n",
      "- A launching pad for your adoption and use of Python for data analyses\n",
      "\n",
      "What **not** to expect\n",
      "\n",
      "- A comprehensive, all-encompassing description of Pydata tools\n",
      "- Covering the full functionality of Python and Pydata"
     ]
    },
    {
     "cell_type": "heading",
     "level": 2,
     "metadata": {},
     "source": [
      "Useful references"
     ]
    },
    {
     "cell_type": "markdown",
     "metadata": {},
     "source": [
      "1. [Python for Data Analysis](http://shop.oreilly.com/product/0636920023784.do) by Wes McKinney (also [web](http://pandas.pydata.org))\n",
      "2. [PyData conference talks](http://www.vimeo.com/pydata)\n"
     ]
    },
    {
     "cell_type": "code",
     "collapsed": false,
     "input": [
      "import warnings\n",
      "warnings.filterwarnings(\"ignore\", category=DeprecationWarning)\n",
      "warnings.filterwarnings(\"ignore\", category=UserWarning)"
     ],
     "language": "python",
     "metadata": {},
     "outputs": [],
     "prompt_number": 27
    },
    {
     "cell_type": "heading",
     "level": 1,
     "metadata": {},
     "source": [
      "Let's get started with data!!"
     ]
    },
    {
     "cell_type": "markdown",
     "metadata": {},
     "source": [
      "<quote style=\"font-family:Times New Roman; font-style:italic; font-size:120%; color: red\">R makes users forget how fast a computer really is</quote> <p style=\"text-align:right\">John Myles White, SPDC, October 2013</p>"
     ]
    },
    {
     "cell_type": "code",
     "collapsed": false,
     "input": [
      "import numpy as np\n",
      "import pandas as pd\n",
      "pd.__version__"
     ],
     "language": "python",
     "metadata": {},
     "outputs": [
      {
       "output_type": "stream",
       "stream": "stderr",
       "text": [
        "/Users/abhijit/anaconda/lib/python2.7/site-packages/pytz/__init__.py:35: UserWarning: Module argparse was already imported from /Users/abhijit/anaconda/python.app/Contents/lib/python2.7/argparse.pyc, but /Users/abhijit/anaconda/lib/python2.7/site-packages is being added to sys.path\n",
        "  from pkg_resources import resource_stream\n"
       ]
      },
      {
       "metadata": {},
       "output_type": "pyout",
       "prompt_number": 1,
       "text": [
        "'0.13.1'"
       ]
      }
     ],
     "prompt_number": 1
    },
    {
     "cell_type": "markdown",
     "metadata": {},
     "source": [
      "<code>pandas</code> has two main data structures: <code>Series</code> and <code>DataFrame</code>"
     ]
    },
    {
     "cell_type": "code",
     "collapsed": false,
     "input": [
      "values = [5,3,4,8,2,9]\n",
      "vals = pd.Series(values)\n",
      "vals"
     ],
     "language": "python",
     "metadata": {},
     "outputs": [
      {
       "metadata": {},
       "output_type": "pyout",
       "prompt_number": 29,
       "text": [
        "0    5\n",
        "1    3\n",
        "2    4\n",
        "3    8\n",
        "4    2\n",
        "5    9\n",
        "dtype: int64"
       ]
      }
     ],
     "prompt_number": 29
    },
    {
     "cell_type": "markdown",
     "metadata": {},
     "source": [
      "Each value is now associated with an _index_. The index itself is an object of class <code>Index</code> and can be manipulated directly"
     ]
    },
    {
     "cell_type": "code",
     "collapsed": false,
     "input": [
      "vals.index"
     ],
     "language": "python",
     "metadata": {},
     "outputs": [
      {
       "metadata": {},
       "output_type": "pyout",
       "prompt_number": 30,
       "text": [
        "Int64Index([0, 1, 2, 3, 4, 5], dtype='int64')"
       ]
      }
     ],
     "prompt_number": 30
    },
    {
     "cell_type": "code",
     "collapsed": false,
     "input": [
      "vals.values # Results in a numpy array"
     ],
     "language": "python",
     "metadata": {},
     "outputs": [
      {
       "metadata": {},
       "output_type": "pyout",
       "prompt_number": 33,
       "text": [
        "array([5, 3, 4, 8, 2, 9])"
       ]
      }
     ],
     "prompt_number": 33
    },
    {
     "cell_type": "markdown",
     "metadata": {},
     "source": [
      "Let's change the index"
     ]
    },
    {
     "cell_type": "code",
     "collapsed": false,
     "input": [
      "vals2=pd.Series(values, index=['a','b','c','d','e','f'])\n",
      "vals2"
     ],
     "language": "python",
     "metadata": {},
     "outputs": [
      {
       "metadata": {},
       "output_type": "pyout",
       "prompt_number": 34,
       "text": [
        "a    5\n",
        "b    3\n",
        "c    4\n",
        "d    8\n",
        "e    2\n",
        "f    9\n",
        "dtype: int64"
       ]
      }
     ],
     "prompt_number": 34
    },
    {
     "cell_type": "code",
     "collapsed": false,
     "input": [
      "vals2[['b','d']]"
     ],
     "language": "python",
     "metadata": {},
     "outputs": [
      {
       "metadata": {},
       "output_type": "pyout",
       "prompt_number": 37,
       "text": [
        "b    3\n",
        "d    8\n",
        "dtype: int64"
       ]
      }
     ],
     "prompt_number": 37
    },
    {
     "cell_type": "code",
     "collapsed": false,
     "input": [
      "vals2[['e','f','g']]"
     ],
     "language": "python",
     "metadata": {},
     "outputs": [
      {
       "metadata": {},
       "output_type": "pyout",
       "prompt_number": 38,
       "text": [
        "e     2\n",
        "f     9\n",
        "g   NaN\n",
        "dtype: float64"
       ]
      }
     ],
     "prompt_number": 38
    },
    {
     "cell_type": "code",
     "collapsed": false,
     "input": [
      "vals3 = vals2[['a','b','c','f','g','h']]\n",
      "vals3"
     ],
     "language": "python",
     "metadata": {},
     "outputs": [
      {
       "metadata": {},
       "output_type": "pyout",
       "prompt_number": 42,
       "text": [
        "a     5\n",
        "b     3\n",
        "c     4\n",
        "f     9\n",
        "g   NaN\n",
        "h   NaN\n",
        "dtype: float64"
       ]
      }
     ],
     "prompt_number": 42
    },
    {
     "cell_type": "heading",
     "level": 4,
     "metadata": {},
     "source": [
      "Missing value manipulation"
     ]
    },
    {
     "cell_type": "code",
     "collapsed": false,
     "input": [
      "vals3.isnull() # Identification"
     ],
     "language": "python",
     "metadata": {},
     "outputs": [
      {
       "metadata": {},
       "output_type": "pyout",
       "prompt_number": 43,
       "text": [
        "a    False\n",
        "b    False\n",
        "c    False\n",
        "f    False\n",
        "g     True\n",
        "h     True\n",
        "dtype: bool"
       ]
      }
     ],
     "prompt_number": 43
    },
    {
     "cell_type": "code",
     "collapsed": false,
     "input": [
      "vals3.dropna() # Filtering"
     ],
     "language": "python",
     "metadata": {},
     "outputs": [
      {
       "metadata": {},
       "output_type": "pyout",
       "prompt_number": 44,
       "text": [
        "a    5\n",
        "b    3\n",
        "c    4\n",
        "f    9\n",
        "dtype: float64"
       ]
      }
     ],
     "prompt_number": 44
    },
    {
     "cell_type": "code",
     "collapsed": false,
     "input": [
      "vals3.fillna(0) # Imputation with the value 0"
     ],
     "language": "python",
     "metadata": {},
     "outputs": [
      {
       "metadata": {},
       "output_type": "pyout",
       "prompt_number": 45,
       "text": [
        "a    5\n",
        "b    3\n",
        "c    4\n",
        "f    9\n",
        "g    0\n",
        "h    0\n",
        "dtype: float64"
       ]
      }
     ],
     "prompt_number": 45
    },
    {
     "cell_type": "markdown",
     "metadata": {},
     "source": [
      "That's a little unsophisticated. Let's try"
     ]
    },
    {
     "cell_type": "code",
     "collapsed": false,
     "input": [
      "vals3.fillna(vals3.mean()) # mean value imputation"
     ],
     "language": "python",
     "metadata": {},
     "outputs": [
      {
       "metadata": {},
       "output_type": "pyout",
       "prompt_number": 47,
       "text": [
        "a    5.00\n",
        "b    3.00\n",
        "c    4.00\n",
        "f    9.00\n",
        "g    5.25\n",
        "h    5.25\n",
        "dtype: float64"
       ]
      }
     ],
     "prompt_number": 47
    },
    {
     "cell_type": "code",
     "collapsed": false,
     "input": [
      "vals3.fillna(method='ffill') # Last value carried forward, also vals3.ffill()"
     ],
     "language": "python",
     "metadata": {},
     "outputs": [
      {
       "metadata": {},
       "output_type": "pyout",
       "prompt_number": 48,
       "text": [
        "a    5\n",
        "b    3\n",
        "c    4\n",
        "f    9\n",
        "g    9\n",
        "h    9\n",
        "dtype: float64"
       ]
      }
     ],
     "prompt_number": 48
    },
    {
     "cell_type": "heading",
     "level": 3,
     "metadata": {},
     "source": [
      "Summarizing data"
     ]
    },
    {
     "cell_type": "code",
     "collapsed": false,
     "input": [
      "vals3.describe()"
     ],
     "language": "python",
     "metadata": {},
     "outputs": [
      {
       "metadata": {},
       "output_type": "pyout",
       "prompt_number": 173,
       "text": [
        "count    3.0\n",
        "mean     4.0\n",
        "std      1.0\n",
        "min      3.0\n",
        "25%      3.5\n",
        "50%      4.0\n",
        "75%      4.5\n",
        "max      5.0\n",
        "dtype: float64"
       ]
      }
     ],
     "prompt_number": 173
    },
    {
     "cell_type": "code",
     "collapsed": false,
     "input": [],
     "language": "python",
     "metadata": {},
     "outputs": []
    },
    {
     "cell_type": "heading",
     "level": 2,
     "metadata": {},
     "source": [
      "DataFrame"
     ]
    },
    {
     "cell_type": "markdown",
     "metadata": {},
     "source": [
      "We can create a DataFrame from \n",
      "\n",
      "- a <code>dict</code>\n",
      "- importing data using <code>pandas</code> import functions\n",
      "- a set of <code>Series</code> objects"
     ]
    },
    {
     "cell_type": "code",
     "collapsed": false,
     "input": [
      "vals.index = pd.Index(['a','b','c','d','e','f'])\n",
      "vals3 = vals3[['a','b','c','d','e','z']]\n",
      "dat = pd.DataFrame({'orig':vals,'new':vals3})"
     ],
     "language": "python",
     "metadata": {},
     "outputs": [],
     "prompt_number": 52
    },
    {
     "cell_type": "code",
     "collapsed": false,
     "input": [
      "dat"
     ],
     "language": "python",
     "metadata": {},
     "outputs": [
      {
       "html": [
        "<div style=\"max-height:1000px;max-width:1500px;overflow:auto;\">\n",
        "<table border=\"1\" class=\"dataframe\">\n",
        "  <thead>\n",
        "    <tr style=\"text-align: right;\">\n",
        "      <th></th>\n",
        "      <th>new</th>\n",
        "      <th>orig</th>\n",
        "    </tr>\n",
        "  </thead>\n",
        "  <tbody>\n",
        "    <tr>\n",
        "      <th>a</th>\n",
        "      <td>  5</td>\n",
        "      <td>  5</td>\n",
        "    </tr>\n",
        "    <tr>\n",
        "      <th>b</th>\n",
        "      <td>  3</td>\n",
        "      <td>  3</td>\n",
        "    </tr>\n",
        "    <tr>\n",
        "      <th>c</th>\n",
        "      <td>  4</td>\n",
        "      <td>  4</td>\n",
        "    </tr>\n",
        "    <tr>\n",
        "      <th>d</th>\n",
        "      <td>NaN</td>\n",
        "      <td>  8</td>\n",
        "    </tr>\n",
        "    <tr>\n",
        "      <th>e</th>\n",
        "      <td>NaN</td>\n",
        "      <td>  2</td>\n",
        "    </tr>\n",
        "    <tr>\n",
        "      <th>f</th>\n",
        "      <td>NaN</td>\n",
        "      <td>  9</td>\n",
        "    </tr>\n",
        "    <tr>\n",
        "      <th>z</th>\n",
        "      <td>NaN</td>\n",
        "      <td>NaN</td>\n",
        "    </tr>\n",
        "  </tbody>\n",
        "</table>\n",
        "<p>7 rows \u00d7 2 columns</p>\n",
        "</div>"
       ],
       "metadata": {},
       "output_type": "pyout",
       "prompt_number": 53,
       "text": [
        "   new  orig\n",
        "a    5     5\n",
        "b    3     3\n",
        "c    4     4\n",
        "d  NaN     8\n",
        "e  NaN     2\n",
        "f  NaN     9\n",
        "z  NaN   NaN\n",
        "\n",
        "[7 rows x 2 columns]"
       ]
      }
     ],
     "prompt_number": 53
    },
    {
     "cell_type": "markdown",
     "metadata": {},
     "source": [
      "There are two things to note here:\n",
      "\n",
      "1. We created a dict and then passed it to the DataFrame function, which generates the DataFrame object\n",
      "2. The two objects were merged based on their indices, and places where the index didn't match were filled with NaN"
     ]
    },
    {
     "cell_type": "code",
     "collapsed": false,
     "input": [
      "pd.DataFrame([vals,vals2,vals3])"
     ],
     "language": "python",
     "metadata": {},
     "outputs": [
      {
       "html": [
        "<div style=\"max-height:1000px;max-width:1500px;overflow:auto;\">\n",
        "<table border=\"1\" class=\"dataframe\">\n",
        "  <thead>\n",
        "    <tr style=\"text-align: right;\">\n",
        "      <th></th>\n",
        "      <th>a</th>\n",
        "      <th>b</th>\n",
        "      <th>c</th>\n",
        "      <th>d</th>\n",
        "      <th>e</th>\n",
        "      <th>f</th>\n",
        "      <th>z</th>\n",
        "    </tr>\n",
        "  </thead>\n",
        "  <tbody>\n",
        "    <tr>\n",
        "      <th>0</th>\n",
        "      <td> 5</td>\n",
        "      <td> 3</td>\n",
        "      <td> 4</td>\n",
        "      <td>  8</td>\n",
        "      <td>  2</td>\n",
        "      <td>  9</td>\n",
        "      <td>NaN</td>\n",
        "    </tr>\n",
        "    <tr>\n",
        "      <th>1</th>\n",
        "      <td> 5</td>\n",
        "      <td> 3</td>\n",
        "      <td> 4</td>\n",
        "      <td>  8</td>\n",
        "      <td>  2</td>\n",
        "      <td>  9</td>\n",
        "      <td>NaN</td>\n",
        "    </tr>\n",
        "    <tr>\n",
        "      <th>2</th>\n",
        "      <td> 5</td>\n",
        "      <td> 3</td>\n",
        "      <td> 4</td>\n",
        "      <td>NaN</td>\n",
        "      <td>NaN</td>\n",
        "      <td>NaN</td>\n",
        "      <td>NaN</td>\n",
        "    </tr>\n",
        "  </tbody>\n",
        "</table>\n",
        "<p>3 rows \u00d7 7 columns</p>\n",
        "</div>"
       ],
       "metadata": {},
       "output_type": "pyout",
       "prompt_number": 59,
       "text": [
        "   a  b  c   d   e   f   z\n",
        "0  5  3  4   8   2   9 NaN\n",
        "1  5  3  4   8   2   9 NaN\n",
        "2  5  3  4 NaN NaN NaN NaN\n",
        "\n",
        "[3 rows x 7 columns]"
       ]
      }
     ],
     "prompt_number": 59
    },
    {
     "cell_type": "code",
     "collapsed": false,
     "input": [
      "dat1=dat.fillna(method='ffill')\n",
      "dat1"
     ],
     "language": "python",
     "metadata": {},
     "outputs": [
      {
       "html": [
        "<div style=\"max-height:1000px;max-width:1500px;overflow:auto;\">\n",
        "<table border=\"1\" class=\"dataframe\">\n",
        "  <thead>\n",
        "    <tr style=\"text-align: right;\">\n",
        "      <th></th>\n",
        "      <th>new</th>\n",
        "      <th>orig</th>\n",
        "    </tr>\n",
        "  </thead>\n",
        "  <tbody>\n",
        "    <tr>\n",
        "      <th>a</th>\n",
        "      <td> 5</td>\n",
        "      <td> 5</td>\n",
        "    </tr>\n",
        "    <tr>\n",
        "      <th>b</th>\n",
        "      <td> 3</td>\n",
        "      <td> 3</td>\n",
        "    </tr>\n",
        "    <tr>\n",
        "      <th>c</th>\n",
        "      <td> 4</td>\n",
        "      <td> 4</td>\n",
        "    </tr>\n",
        "    <tr>\n",
        "      <th>d</th>\n",
        "      <td> 4</td>\n",
        "      <td> 8</td>\n",
        "    </tr>\n",
        "    <tr>\n",
        "      <th>e</th>\n",
        "      <td> 4</td>\n",
        "      <td> 2</td>\n",
        "    </tr>\n",
        "    <tr>\n",
        "      <th>f</th>\n",
        "      <td> 4</td>\n",
        "      <td> 9</td>\n",
        "    </tr>\n",
        "    <tr>\n",
        "      <th>z</th>\n",
        "      <td> 4</td>\n",
        "      <td> 9</td>\n",
        "    </tr>\n",
        "  </tbody>\n",
        "</table>\n",
        "<p>7 rows \u00d7 2 columns</p>\n",
        "</div>"
       ],
       "metadata": {},
       "output_type": "pyout",
       "prompt_number": 182,
       "text": [
        "   new  orig\n",
        "a    5     5\n",
        "b    3     3\n",
        "c    4     4\n",
        "d    4     8\n",
        "e    4     2\n",
        "f    4     9\n",
        "z    4     9\n",
        "\n",
        "[7 rows x 2 columns]"
       ]
      }
     ],
     "prompt_number": 182
    },
    {
     "cell_type": "code",
     "collapsed": false,
     "input": [
      "dat1.duplicated()"
     ],
     "language": "python",
     "metadata": {},
     "outputs": [
      {
       "metadata": {},
       "output_type": "pyout",
       "prompt_number": 189,
       "text": [
        "a    False\n",
        "b    False\n",
        "c    False\n",
        "d    False\n",
        "e    False\n",
        "f    False\n",
        "z     True\n",
        "dtype: bool"
       ]
      }
     ],
     "prompt_number": 189
    },
    {
     "cell_type": "code",
     "collapsed": false,
     "input": [
      "cars = pd.read_csv('data/mtcars.csv') # By far the easiest way to read csv files"
     ],
     "language": "python",
     "metadata": {},
     "outputs": [],
     "prompt_number": 57
    },
    {
     "cell_type": "heading",
     "level": 3,
     "metadata": {},
     "source": [
      "Slicing and Dicing"
     ]
    },
    {
     "cell_type": "code",
     "collapsed": false,
     "input": [
      "cars[:10] # First 10 rows"
     ],
     "language": "python",
     "metadata": {},
     "outputs": [
      {
       "html": [
        "<div style=\"max-height:1000px;max-width:1500px;overflow:auto;\">\n",
        "<table border=\"1\" class=\"dataframe\">\n",
        "  <thead>\n",
        "    <tr style=\"text-align: right;\">\n",
        "      <th></th>\n",
        "      <th>mpg</th>\n",
        "      <th>cyl</th>\n",
        "      <th>disp</th>\n",
        "      <th>hp</th>\n",
        "      <th>drat</th>\n",
        "      <th>wt</th>\n",
        "      <th>qsec</th>\n",
        "      <th>vs</th>\n",
        "      <th>am</th>\n",
        "      <th>gear</th>\n",
        "      <th>carb</th>\n",
        "    </tr>\n",
        "  </thead>\n",
        "  <tbody>\n",
        "    <tr>\n",
        "      <th>0</th>\n",
        "      <td> 21.0</td>\n",
        "      <td> 6</td>\n",
        "      <td> 160.0</td>\n",
        "      <td> 110</td>\n",
        "      <td> 3.90</td>\n",
        "      <td> 2.620</td>\n",
        "      <td> 16.46</td>\n",
        "      <td> 0</td>\n",
        "      <td> 1</td>\n",
        "      <td> 4</td>\n",
        "      <td> 4</td>\n",
        "    </tr>\n",
        "    <tr>\n",
        "      <th>1</th>\n",
        "      <td> 21.0</td>\n",
        "      <td> 6</td>\n",
        "      <td> 160.0</td>\n",
        "      <td> 110</td>\n",
        "      <td> 3.90</td>\n",
        "      <td> 2.875</td>\n",
        "      <td> 17.02</td>\n",
        "      <td> 0</td>\n",
        "      <td> 1</td>\n",
        "      <td> 4</td>\n",
        "      <td> 4</td>\n",
        "    </tr>\n",
        "    <tr>\n",
        "      <th>2</th>\n",
        "      <td> 22.8</td>\n",
        "      <td> 4</td>\n",
        "      <td> 108.0</td>\n",
        "      <td>  93</td>\n",
        "      <td> 3.85</td>\n",
        "      <td> 2.320</td>\n",
        "      <td> 18.61</td>\n",
        "      <td> 1</td>\n",
        "      <td> 1</td>\n",
        "      <td> 4</td>\n",
        "      <td> 1</td>\n",
        "    </tr>\n",
        "    <tr>\n",
        "      <th>3</th>\n",
        "      <td> 21.4</td>\n",
        "      <td> 6</td>\n",
        "      <td> 258.0</td>\n",
        "      <td> 110</td>\n",
        "      <td> 3.08</td>\n",
        "      <td> 3.215</td>\n",
        "      <td> 19.44</td>\n",
        "      <td> 1</td>\n",
        "      <td> 0</td>\n",
        "      <td> 3</td>\n",
        "      <td> 1</td>\n",
        "    </tr>\n",
        "    <tr>\n",
        "      <th>4</th>\n",
        "      <td> 18.7</td>\n",
        "      <td> 8</td>\n",
        "      <td> 360.0</td>\n",
        "      <td> 175</td>\n",
        "      <td> 3.15</td>\n",
        "      <td> 3.440</td>\n",
        "      <td> 17.02</td>\n",
        "      <td> 0</td>\n",
        "      <td> 0</td>\n",
        "      <td> 3</td>\n",
        "      <td> 2</td>\n",
        "    </tr>\n",
        "    <tr>\n",
        "      <th>5</th>\n",
        "      <td> 18.1</td>\n",
        "      <td> 6</td>\n",
        "      <td> 225.0</td>\n",
        "      <td> 105</td>\n",
        "      <td> 2.76</td>\n",
        "      <td> 3.460</td>\n",
        "      <td> 20.22</td>\n",
        "      <td> 1</td>\n",
        "      <td> 0</td>\n",
        "      <td> 3</td>\n",
        "      <td> 1</td>\n",
        "    </tr>\n",
        "    <tr>\n",
        "      <th>6</th>\n",
        "      <td> 14.3</td>\n",
        "      <td> 8</td>\n",
        "      <td> 360.0</td>\n",
        "      <td> 245</td>\n",
        "      <td> 3.21</td>\n",
        "      <td> 3.570</td>\n",
        "      <td> 15.84</td>\n",
        "      <td> 0</td>\n",
        "      <td> 0</td>\n",
        "      <td> 3</td>\n",
        "      <td> 4</td>\n",
        "    </tr>\n",
        "    <tr>\n",
        "      <th>7</th>\n",
        "      <td> 24.4</td>\n",
        "      <td> 4</td>\n",
        "      <td> 146.7</td>\n",
        "      <td>  62</td>\n",
        "      <td> 3.69</td>\n",
        "      <td> 3.190</td>\n",
        "      <td> 20.00</td>\n",
        "      <td> 1</td>\n",
        "      <td> 0</td>\n",
        "      <td> 4</td>\n",
        "      <td> 2</td>\n",
        "    </tr>\n",
        "    <tr>\n",
        "      <th>8</th>\n",
        "      <td> 22.8</td>\n",
        "      <td> 4</td>\n",
        "      <td> 140.8</td>\n",
        "      <td>  95</td>\n",
        "      <td> 3.92</td>\n",
        "      <td> 3.150</td>\n",
        "      <td> 22.90</td>\n",
        "      <td> 1</td>\n",
        "      <td> 0</td>\n",
        "      <td> 4</td>\n",
        "      <td> 2</td>\n",
        "    </tr>\n",
        "    <tr>\n",
        "      <th>9</th>\n",
        "      <td> 19.2</td>\n",
        "      <td> 6</td>\n",
        "      <td> 167.6</td>\n",
        "      <td> 123</td>\n",
        "      <td> 3.92</td>\n",
        "      <td> 3.440</td>\n",
        "      <td> 18.30</td>\n",
        "      <td> 1</td>\n",
        "      <td> 0</td>\n",
        "      <td> 4</td>\n",
        "      <td> 4</td>\n",
        "    </tr>\n",
        "  </tbody>\n",
        "</table>\n",
        "<p>10 rows \u00d7 11 columns</p>\n",
        "</div>"
       ],
       "metadata": {},
       "output_type": "pyout",
       "prompt_number": 66,
       "text": [
        "    mpg  cyl   disp   hp  drat     wt   qsec  vs  am  gear  carb\n",
        "0  21.0    6  160.0  110  3.90  2.620  16.46   0   1     4     4\n",
        "1  21.0    6  160.0  110  3.90  2.875  17.02   0   1     4     4\n",
        "2  22.8    4  108.0   93  3.85  2.320  18.61   1   1     4     1\n",
        "3  21.4    6  258.0  110  3.08  3.215  19.44   1   0     3     1\n",
        "4  18.7    8  360.0  175  3.15  3.440  17.02   0   0     3     2\n",
        "5  18.1    6  225.0  105  2.76  3.460  20.22   1   0     3     1\n",
        "6  14.3    8  360.0  245  3.21  3.570  15.84   0   0     3     4\n",
        "7  24.4    4  146.7   62  3.69  3.190  20.00   1   0     4     2\n",
        "8  22.8    4  140.8   95  3.92  3.150  22.90   1   0     4     2\n",
        "9  19.2    6  167.6  123  3.92  3.440  18.30   1   0     4     4\n",
        "\n",
        "[10 rows x 11 columns]"
       ]
      }
     ],
     "prompt_number": 66
    },
    {
     "cell_type": "code",
     "collapsed": false,
     "input": [
      "cars.head()"
     ],
     "language": "python",
     "metadata": {},
     "outputs": [
      {
       "html": [
        "<div style=\"max-height:1000px;max-width:1500px;overflow:auto;\">\n",
        "<table border=\"1\" class=\"dataframe\">\n",
        "  <thead>\n",
        "    <tr style=\"text-align: right;\">\n",
        "      <th></th>\n",
        "      <th>mpg</th>\n",
        "      <th>cyl</th>\n",
        "      <th>disp</th>\n",
        "      <th>hp</th>\n",
        "      <th>drat</th>\n",
        "      <th>wt</th>\n",
        "      <th>qsec</th>\n",
        "      <th>vs</th>\n",
        "      <th>am</th>\n",
        "      <th>gear</th>\n",
        "      <th>carb</th>\n",
        "    </tr>\n",
        "  </thead>\n",
        "  <tbody>\n",
        "    <tr>\n",
        "      <th>0</th>\n",
        "      <td> 21.0</td>\n",
        "      <td> 6</td>\n",
        "      <td> 160</td>\n",
        "      <td> 110</td>\n",
        "      <td> 3.90</td>\n",
        "      <td> 2.620</td>\n",
        "      <td> 16.46</td>\n",
        "      <td> 0</td>\n",
        "      <td> 1</td>\n",
        "      <td> 4</td>\n",
        "      <td> 4</td>\n",
        "    </tr>\n",
        "    <tr>\n",
        "      <th>1</th>\n",
        "      <td> 21.0</td>\n",
        "      <td> 6</td>\n",
        "      <td> 160</td>\n",
        "      <td> 110</td>\n",
        "      <td> 3.90</td>\n",
        "      <td> 2.875</td>\n",
        "      <td> 17.02</td>\n",
        "      <td> 0</td>\n",
        "      <td> 1</td>\n",
        "      <td> 4</td>\n",
        "      <td> 4</td>\n",
        "    </tr>\n",
        "    <tr>\n",
        "      <th>2</th>\n",
        "      <td> 22.8</td>\n",
        "      <td> 4</td>\n",
        "      <td> 108</td>\n",
        "      <td>  93</td>\n",
        "      <td> 3.85</td>\n",
        "      <td> 2.320</td>\n",
        "      <td> 18.61</td>\n",
        "      <td> 1</td>\n",
        "      <td> 1</td>\n",
        "      <td> 4</td>\n",
        "      <td> 1</td>\n",
        "    </tr>\n",
        "    <tr>\n",
        "      <th>3</th>\n",
        "      <td> 21.4</td>\n",
        "      <td> 6</td>\n",
        "      <td> 258</td>\n",
        "      <td> 110</td>\n",
        "      <td> 3.08</td>\n",
        "      <td> 3.215</td>\n",
        "      <td> 19.44</td>\n",
        "      <td> 1</td>\n",
        "      <td> 0</td>\n",
        "      <td> 3</td>\n",
        "      <td> 1</td>\n",
        "    </tr>\n",
        "    <tr>\n",
        "      <th>4</th>\n",
        "      <td> 18.7</td>\n",
        "      <td> 8</td>\n",
        "      <td> 360</td>\n",
        "      <td> 175</td>\n",
        "      <td> 3.15</td>\n",
        "      <td> 3.440</td>\n",
        "      <td> 17.02</td>\n",
        "      <td> 0</td>\n",
        "      <td> 0</td>\n",
        "      <td> 3</td>\n",
        "      <td> 2</td>\n",
        "    </tr>\n",
        "  </tbody>\n",
        "</table>\n",
        "<p>5 rows \u00d7 11 columns</p>\n",
        "</div>"
       ],
       "metadata": {},
       "output_type": "pyout",
       "prompt_number": 75,
       "text": [
        "    mpg  cyl  disp   hp  drat     wt   qsec  vs  am  gear  carb\n",
        "0  21.0    6   160  110  3.90  2.620  16.46   0   1     4     4\n",
        "1  21.0    6   160  110  3.90  2.875  17.02   0   1     4     4\n",
        "2  22.8    4   108   93  3.85  2.320  18.61   1   1     4     1\n",
        "3  21.4    6   258  110  3.08  3.215  19.44   1   0     3     1\n",
        "4  18.7    8   360  175  3.15  3.440  17.02   0   0     3     2\n",
        "\n",
        "[5 rows x 11 columns]"
       ]
      }
     ],
     "prompt_number": 75
    },
    {
     "cell_type": "code",
     "collapsed": false,
     "input": [
      "cars.index"
     ],
     "language": "python",
     "metadata": {},
     "outputs": [
      {
       "metadata": {},
       "output_type": "pyout",
       "prompt_number": 132,
       "text": [
        "Int64Index([0, 1, 2, 3, 4, 5, 6, 7, 8, 9, 10, 11, 12, 13, 14, 15, 16, 17, 18, 19, 20, 21, 22, 23, 24, 25, 26, 27, 28, 29, 30, 31], dtype='int64')"
       ]
      }
     ],
     "prompt_number": 132
    },
    {
     "cell_type": "code",
     "collapsed": false,
     "input": [
      "cars.columns"
     ],
     "language": "python",
     "metadata": {},
     "outputs": [
      {
       "metadata": {},
       "output_type": "pyout",
       "prompt_number": 83,
       "text": [
        "Index([u'mpg', u'cyl', u'disp', u'hp', u'drat', u'wt', u'qsec', u'vs', u'am', u'gear', u'carb'], dtype='object')"
       ]
      }
     ],
     "prompt_number": 83
    },
    {
     "cell_type": "code",
     "collapsed": false,
     "input": [
      "cars.iloc[1:3,3:6]"
     ],
     "language": "python",
     "metadata": {},
     "outputs": [
      {
       "html": [
        "<div style=\"max-height:1000px;max-width:1500px;overflow:auto;\">\n",
        "<table border=\"1\" class=\"dataframe\">\n",
        "  <thead>\n",
        "    <tr style=\"text-align: right;\">\n",
        "      <th></th>\n",
        "      <th>hp</th>\n",
        "      <th>drat</th>\n",
        "      <th>wt</th>\n",
        "    </tr>\n",
        "  </thead>\n",
        "  <tbody>\n",
        "    <tr>\n",
        "      <th>1</th>\n",
        "      <td> 110</td>\n",
        "      <td> 3.90</td>\n",
        "      <td> 2.875</td>\n",
        "    </tr>\n",
        "    <tr>\n",
        "      <th>2</th>\n",
        "      <td>  93</td>\n",
        "      <td> 3.85</td>\n",
        "      <td> 2.320</td>\n",
        "    </tr>\n",
        "  </tbody>\n",
        "</table>\n",
        "<p>2 rows \u00d7 3 columns</p>\n",
        "</div>"
       ],
       "metadata": {},
       "output_type": "pyout",
       "prompt_number": 121,
       "text": [
        "    hp  drat     wt\n",
        "1  110  3.90  2.875\n",
        "2   93  3.85  2.320\n",
        "\n",
        "[2 rows x 3 columns]"
       ]
      }
     ],
     "prompt_number": 121
    },
    {
     "cell_type": "code",
     "collapsed": false,
     "input": [
      "cars[1:3][['hp','drat','wt']]"
     ],
     "language": "python",
     "metadata": {},
     "outputs": [
      {
       "html": [
        "<div style=\"max-height:1000px;max-width:1500px;overflow:auto;\">\n",
        "<table border=\"1\" class=\"dataframe\">\n",
        "  <thead>\n",
        "    <tr style=\"text-align: right;\">\n",
        "      <th></th>\n",
        "      <th>hp</th>\n",
        "      <th>drat</th>\n",
        "      <th>wt</th>\n",
        "    </tr>\n",
        "  </thead>\n",
        "  <tbody>\n",
        "    <tr>\n",
        "      <th>1</th>\n",
        "      <td> 110</td>\n",
        "      <td> 3.90</td>\n",
        "      <td> 2.875</td>\n",
        "    </tr>\n",
        "    <tr>\n",
        "      <th>2</th>\n",
        "      <td>  93</td>\n",
        "      <td> 3.85</td>\n",
        "      <td> 2.320</td>\n",
        "    </tr>\n",
        "  </tbody>\n",
        "</table>\n",
        "<p>2 rows \u00d7 3 columns</p>\n",
        "</div>"
       ],
       "metadata": {},
       "output_type": "pyout",
       "prompt_number": 128,
       "text": [
        "    hp  drat     wt\n",
        "1  110  3.90  2.875\n",
        "2   93  3.85  2.320\n",
        "\n",
        "[2 rows x 3 columns]"
       ]
      }
     ],
     "prompt_number": 128
    },
    {
     "cell_type": "code",
     "collapsed": false,
     "input": [
      "cars.iloc[:3,:6]"
     ],
     "language": "python",
     "metadata": {},
     "outputs": [
      {
       "html": [
        "<div style=\"max-height:1000px;max-width:1500px;overflow:auto;\">\n",
        "<table border=\"1\" class=\"dataframe\">\n",
        "  <thead>\n",
        "    <tr style=\"text-align: right;\">\n",
        "      <th></th>\n",
        "      <th>mpg</th>\n",
        "      <th>cyl</th>\n",
        "      <th>disp</th>\n",
        "      <th>hp</th>\n",
        "      <th>drat</th>\n",
        "      <th>wt</th>\n",
        "    </tr>\n",
        "  </thead>\n",
        "  <tbody>\n",
        "    <tr>\n",
        "      <th>0</th>\n",
        "      <td> 21.0</td>\n",
        "      <td> 6</td>\n",
        "      <td> 160</td>\n",
        "      <td> 110</td>\n",
        "      <td> 3.90</td>\n",
        "      <td> 2.620</td>\n",
        "    </tr>\n",
        "    <tr>\n",
        "      <th>1</th>\n",
        "      <td> 21.0</td>\n",
        "      <td> 6</td>\n",
        "      <td> 160</td>\n",
        "      <td> 110</td>\n",
        "      <td> 3.90</td>\n",
        "      <td> 2.875</td>\n",
        "    </tr>\n",
        "    <tr>\n",
        "      <th>2</th>\n",
        "      <td> 22.8</td>\n",
        "      <td> 4</td>\n",
        "      <td> 108</td>\n",
        "      <td>  93</td>\n",
        "      <td> 3.85</td>\n",
        "      <td> 2.320</td>\n",
        "    </tr>\n",
        "  </tbody>\n",
        "</table>\n",
        "<p>3 rows \u00d7 6 columns</p>\n",
        "</div>"
       ],
       "metadata": {},
       "output_type": "pyout",
       "prompt_number": 149,
       "text": [
        "    mpg  cyl  disp   hp  drat     wt\n",
        "0  21.0    6   160  110  3.90  2.620\n",
        "1  21.0    6   160  110  3.90  2.875\n",
        "2  22.8    4   108   93  3.85  2.320\n",
        "\n",
        "[3 rows x 6 columns]"
       ]
      }
     ],
     "prompt_number": 149
    },
    {
     "cell_type": "code",
     "collapsed": false,
     "input": [
      "cars.loc[:4,'hp':'gear']"
     ],
     "language": "python",
     "metadata": {},
     "outputs": [
      {
       "html": [
        "<div style=\"max-height:1000px;max-width:1500px;overflow:auto;\">\n",
        "<table border=\"1\" class=\"dataframe\">\n",
        "  <thead>\n",
        "    <tr style=\"text-align: right;\">\n",
        "      <th></th>\n",
        "      <th>hp</th>\n",
        "      <th>drat</th>\n",
        "      <th>wt</th>\n",
        "      <th>qsec</th>\n",
        "      <th>vs</th>\n",
        "      <th>am</th>\n",
        "      <th>gear</th>\n",
        "    </tr>\n",
        "  </thead>\n",
        "  <tbody>\n",
        "    <tr>\n",
        "      <th>0</th>\n",
        "      <td> 110</td>\n",
        "      <td> 3.90</td>\n",
        "      <td> 2.620</td>\n",
        "      <td> 16.46</td>\n",
        "      <td> 0</td>\n",
        "      <td> 1</td>\n",
        "      <td> 4</td>\n",
        "    </tr>\n",
        "    <tr>\n",
        "      <th>1</th>\n",
        "      <td> 110</td>\n",
        "      <td> 3.90</td>\n",
        "      <td> 2.875</td>\n",
        "      <td> 17.02</td>\n",
        "      <td> 0</td>\n",
        "      <td> 1</td>\n",
        "      <td> 4</td>\n",
        "    </tr>\n",
        "    <tr>\n",
        "      <th>2</th>\n",
        "      <td>  93</td>\n",
        "      <td> 3.85</td>\n",
        "      <td> 2.320</td>\n",
        "      <td> 18.61</td>\n",
        "      <td> 1</td>\n",
        "      <td> 1</td>\n",
        "      <td> 4</td>\n",
        "    </tr>\n",
        "    <tr>\n",
        "      <th>3</th>\n",
        "      <td> 110</td>\n",
        "      <td> 3.08</td>\n",
        "      <td> 3.215</td>\n",
        "      <td> 19.44</td>\n",
        "      <td> 1</td>\n",
        "      <td> 0</td>\n",
        "      <td> 3</td>\n",
        "    </tr>\n",
        "    <tr>\n",
        "      <th>4</th>\n",
        "      <td> 175</td>\n",
        "      <td> 3.15</td>\n",
        "      <td> 3.440</td>\n",
        "      <td> 17.02</td>\n",
        "      <td> 0</td>\n",
        "      <td> 0</td>\n",
        "      <td> 3</td>\n",
        "    </tr>\n",
        "  </tbody>\n",
        "</table>\n",
        "<p>5 rows \u00d7 7 columns</p>\n",
        "</div>"
       ],
       "metadata": {},
       "output_type": "pyout",
       "prompt_number": 157,
       "text": [
        "    hp  drat     wt   qsec  vs  am  gear\n",
        "0  110  3.90  2.620  16.46   0   1     4\n",
        "1  110  3.90  2.875  17.02   0   1     4\n",
        "2   93  3.85  2.320  18.61   1   1     4\n",
        "3  110  3.08  3.215  19.44   1   0     3\n",
        "4  175  3.15  3.440  17.02   0   0     3\n",
        "\n",
        "[5 rows x 7 columns]"
       ]
      }
     ],
     "prompt_number": 157
    },
    {
     "cell_type": "heading",
     "level": 3,
     "metadata": {},
     "source": [
      "Adding on the fly"
     ]
    },
    {
     "cell_type": "code",
     "collapsed": false,
     "input": [
      "cars['kpmg'] = cars['mpg']*1.6\n",
      "cars"
     ],
     "language": "python",
     "metadata": {},
     "outputs": [
      {
       "html": [
        "<div style=\"max-height:1000px;max-width:1500px;overflow:auto;\">\n",
        "<table border=\"1\" class=\"dataframe\">\n",
        "  <thead>\n",
        "    <tr style=\"text-align: right;\">\n",
        "      <th></th>\n",
        "      <th>mpg</th>\n",
        "      <th>cyl</th>\n",
        "      <th>disp</th>\n",
        "      <th>hp</th>\n",
        "      <th>drat</th>\n",
        "      <th>wt</th>\n",
        "      <th>qsec</th>\n",
        "      <th>vs</th>\n",
        "      <th>am</th>\n",
        "      <th>gear</th>\n",
        "      <th>carb</th>\n",
        "      <th>kpmg</th>\n",
        "    </tr>\n",
        "  </thead>\n",
        "  <tbody>\n",
        "    <tr>\n",
        "      <th>0 </th>\n",
        "      <td> 21.0</td>\n",
        "      <td> 6</td>\n",
        "      <td> 160.0</td>\n",
        "      <td> 110</td>\n",
        "      <td> 3.90</td>\n",
        "      <td> 2.620</td>\n",
        "      <td> 16.46</td>\n",
        "      <td> 0</td>\n",
        "      <td> 1</td>\n",
        "      <td> 4</td>\n",
        "      <td> 4</td>\n",
        "      <td> 33.60</td>\n",
        "    </tr>\n",
        "    <tr>\n",
        "      <th>1 </th>\n",
        "      <td> 21.0</td>\n",
        "      <td> 6</td>\n",
        "      <td> 160.0</td>\n",
        "      <td> 110</td>\n",
        "      <td> 3.90</td>\n",
        "      <td> 2.875</td>\n",
        "      <td> 17.02</td>\n",
        "      <td> 0</td>\n",
        "      <td> 1</td>\n",
        "      <td> 4</td>\n",
        "      <td> 4</td>\n",
        "      <td> 33.60</td>\n",
        "    </tr>\n",
        "    <tr>\n",
        "      <th>2 </th>\n",
        "      <td> 22.8</td>\n",
        "      <td> 4</td>\n",
        "      <td> 108.0</td>\n",
        "      <td>  93</td>\n",
        "      <td> 3.85</td>\n",
        "      <td> 2.320</td>\n",
        "      <td> 18.61</td>\n",
        "      <td> 1</td>\n",
        "      <td> 1</td>\n",
        "      <td> 4</td>\n",
        "      <td> 1</td>\n",
        "      <td> 36.48</td>\n",
        "    </tr>\n",
        "    <tr>\n",
        "      <th>3 </th>\n",
        "      <td> 21.4</td>\n",
        "      <td> 6</td>\n",
        "      <td> 258.0</td>\n",
        "      <td> 110</td>\n",
        "      <td> 3.08</td>\n",
        "      <td> 3.215</td>\n",
        "      <td> 19.44</td>\n",
        "      <td> 1</td>\n",
        "      <td> 0</td>\n",
        "      <td> 3</td>\n",
        "      <td> 1</td>\n",
        "      <td> 34.24</td>\n",
        "    </tr>\n",
        "    <tr>\n",
        "      <th>4 </th>\n",
        "      <td> 18.7</td>\n",
        "      <td> 8</td>\n",
        "      <td> 360.0</td>\n",
        "      <td> 175</td>\n",
        "      <td> 3.15</td>\n",
        "      <td> 3.440</td>\n",
        "      <td> 17.02</td>\n",
        "      <td> 0</td>\n",
        "      <td> 0</td>\n",
        "      <td> 3</td>\n",
        "      <td> 2</td>\n",
        "      <td> 29.92</td>\n",
        "    </tr>\n",
        "    <tr>\n",
        "      <th>5 </th>\n",
        "      <td> 18.1</td>\n",
        "      <td> 6</td>\n",
        "      <td> 225.0</td>\n",
        "      <td> 105</td>\n",
        "      <td> 2.76</td>\n",
        "      <td> 3.460</td>\n",
        "      <td> 20.22</td>\n",
        "      <td> 1</td>\n",
        "      <td> 0</td>\n",
        "      <td> 3</td>\n",
        "      <td> 1</td>\n",
        "      <td> 28.96</td>\n",
        "    </tr>\n",
        "    <tr>\n",
        "      <th>6 </th>\n",
        "      <td> 14.3</td>\n",
        "      <td> 8</td>\n",
        "      <td> 360.0</td>\n",
        "      <td> 245</td>\n",
        "      <td> 3.21</td>\n",
        "      <td> 3.570</td>\n",
        "      <td> 15.84</td>\n",
        "      <td> 0</td>\n",
        "      <td> 0</td>\n",
        "      <td> 3</td>\n",
        "      <td> 4</td>\n",
        "      <td> 22.88</td>\n",
        "    </tr>\n",
        "    <tr>\n",
        "      <th>7 </th>\n",
        "      <td> 24.4</td>\n",
        "      <td> 4</td>\n",
        "      <td> 146.7</td>\n",
        "      <td>  62</td>\n",
        "      <td> 3.69</td>\n",
        "      <td> 3.190</td>\n",
        "      <td> 20.00</td>\n",
        "      <td> 1</td>\n",
        "      <td> 0</td>\n",
        "      <td> 4</td>\n",
        "      <td> 2</td>\n",
        "      <td> 39.04</td>\n",
        "    </tr>\n",
        "    <tr>\n",
        "      <th>8 </th>\n",
        "      <td> 22.8</td>\n",
        "      <td> 4</td>\n",
        "      <td> 140.8</td>\n",
        "      <td>  95</td>\n",
        "      <td> 3.92</td>\n",
        "      <td> 3.150</td>\n",
        "      <td> 22.90</td>\n",
        "      <td> 1</td>\n",
        "      <td> 0</td>\n",
        "      <td> 4</td>\n",
        "      <td> 2</td>\n",
        "      <td> 36.48</td>\n",
        "    </tr>\n",
        "    <tr>\n",
        "      <th>9 </th>\n",
        "      <td> 19.2</td>\n",
        "      <td> 6</td>\n",
        "      <td> 167.6</td>\n",
        "      <td> 123</td>\n",
        "      <td> 3.92</td>\n",
        "      <td> 3.440</td>\n",
        "      <td> 18.30</td>\n",
        "      <td> 1</td>\n",
        "      <td> 0</td>\n",
        "      <td> 4</td>\n",
        "      <td> 4</td>\n",
        "      <td> 30.72</td>\n",
        "    </tr>\n",
        "    <tr>\n",
        "      <th>10</th>\n",
        "      <td> 17.8</td>\n",
        "      <td> 6</td>\n",
        "      <td> 167.6</td>\n",
        "      <td> 123</td>\n",
        "      <td> 3.92</td>\n",
        "      <td> 3.440</td>\n",
        "      <td> 18.90</td>\n",
        "      <td> 1</td>\n",
        "      <td> 0</td>\n",
        "      <td> 4</td>\n",
        "      <td> 4</td>\n",
        "      <td> 28.48</td>\n",
        "    </tr>\n",
        "    <tr>\n",
        "      <th>11</th>\n",
        "      <td> 16.4</td>\n",
        "      <td> 8</td>\n",
        "      <td> 275.8</td>\n",
        "      <td> 180</td>\n",
        "      <td> 3.07</td>\n",
        "      <td> 4.070</td>\n",
        "      <td> 17.40</td>\n",
        "      <td> 0</td>\n",
        "      <td> 0</td>\n",
        "      <td> 3</td>\n",
        "      <td> 3</td>\n",
        "      <td> 26.24</td>\n",
        "    </tr>\n",
        "    <tr>\n",
        "      <th>12</th>\n",
        "      <td> 17.3</td>\n",
        "      <td> 8</td>\n",
        "      <td> 275.8</td>\n",
        "      <td> 180</td>\n",
        "      <td> 3.07</td>\n",
        "      <td> 3.730</td>\n",
        "      <td> 17.60</td>\n",
        "      <td> 0</td>\n",
        "      <td> 0</td>\n",
        "      <td> 3</td>\n",
        "      <td> 3</td>\n",
        "      <td> 27.68</td>\n",
        "    </tr>\n",
        "    <tr>\n",
        "      <th>13</th>\n",
        "      <td> 15.2</td>\n",
        "      <td> 8</td>\n",
        "      <td> 275.8</td>\n",
        "      <td> 180</td>\n",
        "      <td> 3.07</td>\n",
        "      <td> 3.780</td>\n",
        "      <td> 18.00</td>\n",
        "      <td> 0</td>\n",
        "      <td> 0</td>\n",
        "      <td> 3</td>\n",
        "      <td> 3</td>\n",
        "      <td> 24.32</td>\n",
        "    </tr>\n",
        "    <tr>\n",
        "      <th>14</th>\n",
        "      <td> 10.4</td>\n",
        "      <td> 8</td>\n",
        "      <td> 472.0</td>\n",
        "      <td> 205</td>\n",
        "      <td> 2.93</td>\n",
        "      <td> 5.250</td>\n",
        "      <td> 17.98</td>\n",
        "      <td> 0</td>\n",
        "      <td> 0</td>\n",
        "      <td> 3</td>\n",
        "      <td> 4</td>\n",
        "      <td> 16.64</td>\n",
        "    </tr>\n",
        "    <tr>\n",
        "      <th>15</th>\n",
        "      <td> 10.4</td>\n",
        "      <td> 8</td>\n",
        "      <td> 460.0</td>\n",
        "      <td> 215</td>\n",
        "      <td> 3.00</td>\n",
        "      <td> 5.424</td>\n",
        "      <td> 17.82</td>\n",
        "      <td> 0</td>\n",
        "      <td> 0</td>\n",
        "      <td> 3</td>\n",
        "      <td> 4</td>\n",
        "      <td> 16.64</td>\n",
        "    </tr>\n",
        "    <tr>\n",
        "      <th>16</th>\n",
        "      <td> 14.7</td>\n",
        "      <td> 8</td>\n",
        "      <td> 440.0</td>\n",
        "      <td> 230</td>\n",
        "      <td> 3.23</td>\n",
        "      <td> 5.345</td>\n",
        "      <td> 17.42</td>\n",
        "      <td> 0</td>\n",
        "      <td> 0</td>\n",
        "      <td> 3</td>\n",
        "      <td> 4</td>\n",
        "      <td> 23.52</td>\n",
        "    </tr>\n",
        "    <tr>\n",
        "      <th>17</th>\n",
        "      <td> 32.4</td>\n",
        "      <td> 4</td>\n",
        "      <td>  78.7</td>\n",
        "      <td>  66</td>\n",
        "      <td> 4.08</td>\n",
        "      <td> 2.200</td>\n",
        "      <td> 19.47</td>\n",
        "      <td> 1</td>\n",
        "      <td> 1</td>\n",
        "      <td> 4</td>\n",
        "      <td> 1</td>\n",
        "      <td> 51.84</td>\n",
        "    </tr>\n",
        "    <tr>\n",
        "      <th>18</th>\n",
        "      <td> 30.4</td>\n",
        "      <td> 4</td>\n",
        "      <td>  75.7</td>\n",
        "      <td>  52</td>\n",
        "      <td> 4.93</td>\n",
        "      <td> 1.615</td>\n",
        "      <td> 18.52</td>\n",
        "      <td> 1</td>\n",
        "      <td> 1</td>\n",
        "      <td> 4</td>\n",
        "      <td> 2</td>\n",
        "      <td> 48.64</td>\n",
        "    </tr>\n",
        "    <tr>\n",
        "      <th>19</th>\n",
        "      <td> 33.9</td>\n",
        "      <td> 4</td>\n",
        "      <td>  71.1</td>\n",
        "      <td>  65</td>\n",
        "      <td> 4.22</td>\n",
        "      <td> 1.835</td>\n",
        "      <td> 19.90</td>\n",
        "      <td> 1</td>\n",
        "      <td> 1</td>\n",
        "      <td> 4</td>\n",
        "      <td> 1</td>\n",
        "      <td> 54.24</td>\n",
        "    </tr>\n",
        "    <tr>\n",
        "      <th>20</th>\n",
        "      <td> 21.5</td>\n",
        "      <td> 4</td>\n",
        "      <td> 120.1</td>\n",
        "      <td>  97</td>\n",
        "      <td> 3.70</td>\n",
        "      <td> 2.465</td>\n",
        "      <td> 20.01</td>\n",
        "      <td> 1</td>\n",
        "      <td> 0</td>\n",
        "      <td> 3</td>\n",
        "      <td> 1</td>\n",
        "      <td> 34.40</td>\n",
        "    </tr>\n",
        "    <tr>\n",
        "      <th>21</th>\n",
        "      <td> 15.5</td>\n",
        "      <td> 8</td>\n",
        "      <td> 318.0</td>\n",
        "      <td> 150</td>\n",
        "      <td> 2.76</td>\n",
        "      <td> 3.520</td>\n",
        "      <td> 16.87</td>\n",
        "      <td> 0</td>\n",
        "      <td> 0</td>\n",
        "      <td> 3</td>\n",
        "      <td> 2</td>\n",
        "      <td> 24.80</td>\n",
        "    </tr>\n",
        "    <tr>\n",
        "      <th>22</th>\n",
        "      <td> 15.2</td>\n",
        "      <td> 8</td>\n",
        "      <td> 304.0</td>\n",
        "      <td> 150</td>\n",
        "      <td> 3.15</td>\n",
        "      <td> 3.435</td>\n",
        "      <td> 17.30</td>\n",
        "      <td> 0</td>\n",
        "      <td> 0</td>\n",
        "      <td> 3</td>\n",
        "      <td> 2</td>\n",
        "      <td> 24.32</td>\n",
        "    </tr>\n",
        "    <tr>\n",
        "      <th>23</th>\n",
        "      <td> 13.3</td>\n",
        "      <td> 8</td>\n",
        "      <td> 350.0</td>\n",
        "      <td> 245</td>\n",
        "      <td> 3.73</td>\n",
        "      <td> 3.840</td>\n",
        "      <td> 15.41</td>\n",
        "      <td> 0</td>\n",
        "      <td> 0</td>\n",
        "      <td> 3</td>\n",
        "      <td> 4</td>\n",
        "      <td> 21.28</td>\n",
        "    </tr>\n",
        "    <tr>\n",
        "      <th>24</th>\n",
        "      <td> 19.2</td>\n",
        "      <td> 8</td>\n",
        "      <td> 400.0</td>\n",
        "      <td> 175</td>\n",
        "      <td> 3.08</td>\n",
        "      <td> 3.845</td>\n",
        "      <td> 17.05</td>\n",
        "      <td> 0</td>\n",
        "      <td> 0</td>\n",
        "      <td> 3</td>\n",
        "      <td> 2</td>\n",
        "      <td> 30.72</td>\n",
        "    </tr>\n",
        "    <tr>\n",
        "      <th>25</th>\n",
        "      <td> 27.3</td>\n",
        "      <td> 4</td>\n",
        "      <td>  79.0</td>\n",
        "      <td>  66</td>\n",
        "      <td> 4.08</td>\n",
        "      <td> 1.935</td>\n",
        "      <td> 18.90</td>\n",
        "      <td> 1</td>\n",
        "      <td> 1</td>\n",
        "      <td> 4</td>\n",
        "      <td> 1</td>\n",
        "      <td> 43.68</td>\n",
        "    </tr>\n",
        "    <tr>\n",
        "      <th>26</th>\n",
        "      <td> 26.0</td>\n",
        "      <td> 4</td>\n",
        "      <td> 120.3</td>\n",
        "      <td>  91</td>\n",
        "      <td> 4.43</td>\n",
        "      <td> 2.140</td>\n",
        "      <td> 16.70</td>\n",
        "      <td> 0</td>\n",
        "      <td> 1</td>\n",
        "      <td> 5</td>\n",
        "      <td> 2</td>\n",
        "      <td> 41.60</td>\n",
        "    </tr>\n",
        "    <tr>\n",
        "      <th>27</th>\n",
        "      <td> 30.4</td>\n",
        "      <td> 4</td>\n",
        "      <td>  95.1</td>\n",
        "      <td> 113</td>\n",
        "      <td> 3.77</td>\n",
        "      <td> 1.513</td>\n",
        "      <td> 16.90</td>\n",
        "      <td> 1</td>\n",
        "      <td> 1</td>\n",
        "      <td> 5</td>\n",
        "      <td> 2</td>\n",
        "      <td> 48.64</td>\n",
        "    </tr>\n",
        "    <tr>\n",
        "      <th>28</th>\n",
        "      <td> 15.8</td>\n",
        "      <td> 8</td>\n",
        "      <td> 351.0</td>\n",
        "      <td> 264</td>\n",
        "      <td> 4.22</td>\n",
        "      <td> 3.170</td>\n",
        "      <td> 14.50</td>\n",
        "      <td> 0</td>\n",
        "      <td> 1</td>\n",
        "      <td> 5</td>\n",
        "      <td> 4</td>\n",
        "      <td> 25.28</td>\n",
        "    </tr>\n",
        "    <tr>\n",
        "      <th>29</th>\n",
        "      <td> 19.7</td>\n",
        "      <td> 6</td>\n",
        "      <td> 145.0</td>\n",
        "      <td> 175</td>\n",
        "      <td> 3.62</td>\n",
        "      <td> 2.770</td>\n",
        "      <td> 15.50</td>\n",
        "      <td> 0</td>\n",
        "      <td> 1</td>\n",
        "      <td> 5</td>\n",
        "      <td> 6</td>\n",
        "      <td> 31.52</td>\n",
        "    </tr>\n",
        "    <tr>\n",
        "      <th>30</th>\n",
        "      <td> 15.0</td>\n",
        "      <td> 8</td>\n",
        "      <td> 301.0</td>\n",
        "      <td> 335</td>\n",
        "      <td> 3.54</td>\n",
        "      <td> 3.570</td>\n",
        "      <td> 14.60</td>\n",
        "      <td> 0</td>\n",
        "      <td> 1</td>\n",
        "      <td> 5</td>\n",
        "      <td> 8</td>\n",
        "      <td> 24.00</td>\n",
        "    </tr>\n",
        "    <tr>\n",
        "      <th>31</th>\n",
        "      <td> 21.4</td>\n",
        "      <td> 4</td>\n",
        "      <td> 121.0</td>\n",
        "      <td> 109</td>\n",
        "      <td> 4.11</td>\n",
        "      <td> 2.780</td>\n",
        "      <td> 18.60</td>\n",
        "      <td> 1</td>\n",
        "      <td> 1</td>\n",
        "      <td> 4</td>\n",
        "      <td> 2</td>\n",
        "      <td> 34.24</td>\n",
        "    </tr>\n",
        "  </tbody>\n",
        "</table>\n",
        "<p>32 rows \u00d7 12 columns</p>\n",
        "</div>"
       ],
       "metadata": {},
       "output_type": "pyout",
       "prompt_number": 153,
       "text": [
        "     mpg  cyl   disp   hp  drat     wt   qsec  vs  am  gear  carb   kpmg\n",
        "0   21.0    6  160.0  110  3.90  2.620  16.46   0   1     4     4  33.60\n",
        "1   21.0    6  160.0  110  3.90  2.875  17.02   0   1     4     4  33.60\n",
        "2   22.8    4  108.0   93  3.85  2.320  18.61   1   1     4     1  36.48\n",
        "3   21.4    6  258.0  110  3.08  3.215  19.44   1   0     3     1  34.24\n",
        "4   18.7    8  360.0  175  3.15  3.440  17.02   0   0     3     2  29.92\n",
        "5   18.1    6  225.0  105  2.76  3.460  20.22   1   0     3     1  28.96\n",
        "6   14.3    8  360.0  245  3.21  3.570  15.84   0   0     3     4  22.88\n",
        "7   24.4    4  146.7   62  3.69  3.190  20.00   1   0     4     2  39.04\n",
        "8   22.8    4  140.8   95  3.92  3.150  22.90   1   0     4     2  36.48\n",
        "9   19.2    6  167.6  123  3.92  3.440  18.30   1   0     4     4  30.72\n",
        "10  17.8    6  167.6  123  3.92  3.440  18.90   1   0     4     4  28.48\n",
        "11  16.4    8  275.8  180  3.07  4.070  17.40   0   0     3     3  26.24\n",
        "12  17.3    8  275.8  180  3.07  3.730  17.60   0   0     3     3  27.68\n",
        "13  15.2    8  275.8  180  3.07  3.780  18.00   0   0     3     3  24.32\n",
        "14  10.4    8  472.0  205  2.93  5.250  17.98   0   0     3     4  16.64\n",
        "15  10.4    8  460.0  215  3.00  5.424  17.82   0   0     3     4  16.64\n",
        "16  14.7    8  440.0  230  3.23  5.345  17.42   0   0     3     4  23.52\n",
        "17  32.4    4   78.7   66  4.08  2.200  19.47   1   1     4     1  51.84\n",
        "18  30.4    4   75.7   52  4.93  1.615  18.52   1   1     4     2  48.64\n",
        "19  33.9    4   71.1   65  4.22  1.835  19.90   1   1     4     1  54.24\n",
        "20  21.5    4  120.1   97  3.70  2.465  20.01   1   0     3     1  34.40\n",
        "21  15.5    8  318.0  150  2.76  3.520  16.87   0   0     3     2  24.80\n",
        "22  15.2    8  304.0  150  3.15  3.435  17.30   0   0     3     2  24.32\n",
        "23  13.3    8  350.0  245  3.73  3.840  15.41   0   0     3     4  21.28\n",
        "24  19.2    8  400.0  175  3.08  3.845  17.05   0   0     3     2  30.72\n",
        "25  27.3    4   79.0   66  4.08  1.935  18.90   1   1     4     1  43.68\n",
        "26  26.0    4  120.3   91  4.43  2.140  16.70   0   1     5     2  41.60\n",
        "27  30.4    4   95.1  113  3.77  1.513  16.90   1   1     5     2  48.64\n",
        "28  15.8    8  351.0  264  4.22  3.170  14.50   0   1     5     4  25.28\n",
        "29  19.7    6  145.0  175  3.62  2.770  15.50   0   1     5     6  31.52\n",
        "30  15.0    8  301.0  335  3.54  3.570  14.60   0   1     5     8  24.00\n",
        "31  21.4    4  121.0  109  4.11  2.780  18.60   1   1     4     2  34.24\n",
        "\n",
        "[32 rows x 12 columns]"
       ]
      }
     ],
     "prompt_number": 153
    },
    {
     "cell_type": "code",
     "collapsed": false,
     "input": [
      "del cars['kpmg']\n",
      "cars.head()"
     ],
     "language": "python",
     "metadata": {},
     "outputs": [
      {
       "html": [
        "<div style=\"max-height:1000px;max-width:1500px;overflow:auto;\">\n",
        "<table border=\"1\" class=\"dataframe\">\n",
        "  <thead>\n",
        "    <tr style=\"text-align: right;\">\n",
        "      <th></th>\n",
        "      <th>mpg</th>\n",
        "      <th>cyl</th>\n",
        "      <th>disp</th>\n",
        "      <th>hp</th>\n",
        "      <th>drat</th>\n",
        "      <th>wt</th>\n",
        "      <th>qsec</th>\n",
        "      <th>vs</th>\n",
        "      <th>am</th>\n",
        "      <th>gear</th>\n",
        "      <th>carb</th>\n",
        "    </tr>\n",
        "  </thead>\n",
        "  <tbody>\n",
        "    <tr>\n",
        "      <th>0</th>\n",
        "      <td> 21.0</td>\n",
        "      <td> 6</td>\n",
        "      <td> 160</td>\n",
        "      <td> 110</td>\n",
        "      <td> 3.90</td>\n",
        "      <td> 2.620</td>\n",
        "      <td> 16.46</td>\n",
        "      <td> 0</td>\n",
        "      <td> 1</td>\n",
        "      <td> 4</td>\n",
        "      <td> 4</td>\n",
        "    </tr>\n",
        "    <tr>\n",
        "      <th>1</th>\n",
        "      <td> 21.0</td>\n",
        "      <td> 6</td>\n",
        "      <td> 160</td>\n",
        "      <td> 110</td>\n",
        "      <td> 3.90</td>\n",
        "      <td> 2.875</td>\n",
        "      <td> 17.02</td>\n",
        "      <td> 0</td>\n",
        "      <td> 1</td>\n",
        "      <td> 4</td>\n",
        "      <td> 4</td>\n",
        "    </tr>\n",
        "    <tr>\n",
        "      <th>2</th>\n",
        "      <td> 22.8</td>\n",
        "      <td> 4</td>\n",
        "      <td> 108</td>\n",
        "      <td>  93</td>\n",
        "      <td> 3.85</td>\n",
        "      <td> 2.320</td>\n",
        "      <td> 18.61</td>\n",
        "      <td> 1</td>\n",
        "      <td> 1</td>\n",
        "      <td> 4</td>\n",
        "      <td> 1</td>\n",
        "    </tr>\n",
        "    <tr>\n",
        "      <th>3</th>\n",
        "      <td> 21.4</td>\n",
        "      <td> 6</td>\n",
        "      <td> 258</td>\n",
        "      <td> 110</td>\n",
        "      <td> 3.08</td>\n",
        "      <td> 3.215</td>\n",
        "      <td> 19.44</td>\n",
        "      <td> 1</td>\n",
        "      <td> 0</td>\n",
        "      <td> 3</td>\n",
        "      <td> 1</td>\n",
        "    </tr>\n",
        "    <tr>\n",
        "      <th>4</th>\n",
        "      <td> 18.7</td>\n",
        "      <td> 8</td>\n",
        "      <td> 360</td>\n",
        "      <td> 175</td>\n",
        "      <td> 3.15</td>\n",
        "      <td> 3.440</td>\n",
        "      <td> 17.02</td>\n",
        "      <td> 0</td>\n",
        "      <td> 0</td>\n",
        "      <td> 3</td>\n",
        "      <td> 2</td>\n",
        "    </tr>\n",
        "  </tbody>\n",
        "</table>\n",
        "<p>5 rows \u00d7 11 columns</p>\n",
        "</div>"
       ],
       "metadata": {},
       "output_type": "pyout",
       "prompt_number": 161,
       "text": [
        "    mpg  cyl  disp   hp  drat     wt   qsec  vs  am  gear  carb\n",
        "0  21.0    6   160  110  3.90  2.620  16.46   0   1     4     4\n",
        "1  21.0    6   160  110  3.90  2.875  17.02   0   1     4     4\n",
        "2  22.8    4   108   93  3.85  2.320  18.61   1   1     4     1\n",
        "3  21.4    6   258  110  3.08  3.215  19.44   1   0     3     1\n",
        "4  18.7    8   360  175  3.15  3.440  17.02   0   0     3     2\n",
        "\n",
        "[5 rows x 11 columns]"
       ]
      }
     ],
     "prompt_number": 161
    },
    {
     "cell_type": "code",
     "collapsed": false,
     "input": [
      "cars.loc[32]=6\n",
      "cars.tail()"
     ],
     "language": "python",
     "metadata": {},
     "outputs": [
      {
       "html": [
        "<div style=\"max-height:1000px;max-width:1500px;overflow:auto;\">\n",
        "<table border=\"1\" class=\"dataframe\">\n",
        "  <thead>\n",
        "    <tr style=\"text-align: right;\">\n",
        "      <th></th>\n",
        "      <th>mpg</th>\n",
        "      <th>cyl</th>\n",
        "      <th>disp</th>\n",
        "      <th>hp</th>\n",
        "      <th>drat</th>\n",
        "      <th>wt</th>\n",
        "      <th>qsec</th>\n",
        "      <th>vs</th>\n",
        "      <th>am</th>\n",
        "      <th>gear</th>\n",
        "      <th>carb</th>\n",
        "    </tr>\n",
        "  </thead>\n",
        "  <tbody>\n",
        "    <tr>\n",
        "      <th>28</th>\n",
        "      <td> 15.8</td>\n",
        "      <td> 8</td>\n",
        "      <td> 351</td>\n",
        "      <td> 264</td>\n",
        "      <td> 4.22</td>\n",
        "      <td> 3.17</td>\n",
        "      <td> 14.5</td>\n",
        "      <td> 0</td>\n",
        "      <td> 1</td>\n",
        "      <td> 5</td>\n",
        "      <td> 4</td>\n",
        "    </tr>\n",
        "    <tr>\n",
        "      <th>29</th>\n",
        "      <td> 19.7</td>\n",
        "      <td> 6</td>\n",
        "      <td> 145</td>\n",
        "      <td> 175</td>\n",
        "      <td> 3.62</td>\n",
        "      <td> 2.77</td>\n",
        "      <td> 15.5</td>\n",
        "      <td> 0</td>\n",
        "      <td> 1</td>\n",
        "      <td> 5</td>\n",
        "      <td> 6</td>\n",
        "    </tr>\n",
        "    <tr>\n",
        "      <th>30</th>\n",
        "      <td> 15.0</td>\n",
        "      <td> 8</td>\n",
        "      <td> 301</td>\n",
        "      <td> 335</td>\n",
        "      <td> 3.54</td>\n",
        "      <td> 3.57</td>\n",
        "      <td> 14.6</td>\n",
        "      <td> 0</td>\n",
        "      <td> 1</td>\n",
        "      <td> 5</td>\n",
        "      <td> 8</td>\n",
        "    </tr>\n",
        "    <tr>\n",
        "      <th>31</th>\n",
        "      <td> 21.4</td>\n",
        "      <td> 4</td>\n",
        "      <td> 121</td>\n",
        "      <td> 109</td>\n",
        "      <td> 4.11</td>\n",
        "      <td> 2.78</td>\n",
        "      <td> 18.6</td>\n",
        "      <td> 1</td>\n",
        "      <td> 1</td>\n",
        "      <td> 4</td>\n",
        "      <td> 2</td>\n",
        "    </tr>\n",
        "    <tr>\n",
        "      <th>32</th>\n",
        "      <td>  6.0</td>\n",
        "      <td> 6</td>\n",
        "      <td>   6</td>\n",
        "      <td>   6</td>\n",
        "      <td> 6.00</td>\n",
        "      <td> 6.00</td>\n",
        "      <td>  6.0</td>\n",
        "      <td> 6</td>\n",
        "      <td> 6</td>\n",
        "      <td> 6</td>\n",
        "      <td> 6</td>\n",
        "    </tr>\n",
        "  </tbody>\n",
        "</table>\n",
        "<p>5 rows \u00d7 11 columns</p>\n",
        "</div>"
       ],
       "metadata": {},
       "output_type": "pyout",
       "prompt_number": 135,
       "text": [
        "     mpg  cyl  disp   hp  drat    wt  qsec  vs  am  gear  carb\n",
        "28  15.8    8   351  264  4.22  3.17  14.5   0   1     5     4\n",
        "29  19.7    6   145  175  3.62  2.77  15.5   0   1     5     6\n",
        "30  15.0    8   301  335  3.54  3.57  14.6   0   1     5     8\n",
        "31  21.4    4   121  109  4.11  2.78  18.6   1   1     4     2\n",
        "32   6.0    6     6    6  6.00  6.00   6.0   6   6     6     6\n",
        "\n",
        "[5 rows x 11 columns]"
       ]
      }
     ],
     "prompt_number": 135
    },
    {
     "cell_type": "code",
     "collapsed": false,
     "input": [
      "cars.to_csv('data/cars1.csv')\n",
      "cars.to_excel('data/cars1.xls')"
     ],
     "language": "python",
     "metadata": {},
     "outputs": [],
     "prompt_number": 137
    },
    {
     "cell_type": "heading",
     "level": 2,
     "metadata": {},
     "source": [
      "Data munging"
     ]
    },
    {
     "cell_type": "heading",
     "level": 3,
     "metadata": {},
     "source": [
      "Wide-to-long and v.v."
     ]
    },
    {
     "cell_type": "code",
     "collapsed": false,
     "input": [
      "cars[['mpg','cyl','gear']].stack()"
     ],
     "language": "python",
     "metadata": {},
     "outputs": [
      {
       "metadata": {},
       "output_type": "pyout",
       "prompt_number": 211,
       "text": [
        "0  mpg     21.0\n",
        "   cyl      6.0\n",
        "   gear     4.0\n",
        "1  mpg     21.0\n",
        "   cyl      6.0\n",
        "   gear     4.0\n",
        "2  mpg     22.8\n",
        "   cyl      4.0\n",
        "   gear     4.0\n",
        "3  mpg     21.4\n",
        "   cyl      6.0\n",
        "   gear     3.0\n",
        "4  mpg     18.7\n",
        "   cyl      8.0\n",
        "   gear     3.0\n",
        "...\n",
        "26  mpg     26.0\n",
        "    cyl      4.0\n",
        "    gear     5.0\n",
        "27  mpg     30.4\n",
        "    cyl      4.0\n",
        "    gear     5.0\n",
        "28  mpg     15.8\n",
        "    cyl      8.0\n",
        "    gear     5.0\n",
        "29  mpg     19.7\n",
        "    cyl      6.0\n",
        "    gear     5.0\n",
        "30  mpg     15.0\n",
        "    cyl      8.0\n",
        "    gear     5.0\n",
        "Length: 93, dtype: float64"
       ]
      }
     ],
     "prompt_number": 211
    },
    {
     "cell_type": "heading",
     "level": 3,
     "metadata": {},
     "source": [
      "Subsetting"
     ]
    },
    {
     "cell_type": "code",
     "collapsed": false,
     "input": [
      "cars=cars[:-1]\n",
      "cars[(cars['cyl']>4) & (cars['hp']<120)]"
     ],
     "language": "python",
     "metadata": {},
     "outputs": [
      {
       "html": [
        "<div style=\"max-height:1000px;max-width:1500px;overflow:auto;\">\n",
        "<table border=\"1\" class=\"dataframe\">\n",
        "  <thead>\n",
        "    <tr style=\"text-align: right;\">\n",
        "      <th></th>\n",
        "      <th>mpg</th>\n",
        "      <th>cyl</th>\n",
        "      <th>disp</th>\n",
        "      <th>hp</th>\n",
        "      <th>drat</th>\n",
        "      <th>wt</th>\n",
        "      <th>qsec</th>\n",
        "      <th>vs</th>\n",
        "      <th>am</th>\n",
        "      <th>gear</th>\n",
        "      <th>carb</th>\n",
        "    </tr>\n",
        "  </thead>\n",
        "  <tbody>\n",
        "    <tr>\n",
        "      <th>0</th>\n",
        "      <td> 21.0</td>\n",
        "      <td> 6</td>\n",
        "      <td> 160</td>\n",
        "      <td> 110</td>\n",
        "      <td> 3.90</td>\n",
        "      <td> 2.620</td>\n",
        "      <td> 16.46</td>\n",
        "      <td> 0</td>\n",
        "      <td> 1</td>\n",
        "      <td> 4</td>\n",
        "      <td> 4</td>\n",
        "    </tr>\n",
        "    <tr>\n",
        "      <th>1</th>\n",
        "      <td> 21.0</td>\n",
        "      <td> 6</td>\n",
        "      <td> 160</td>\n",
        "      <td> 110</td>\n",
        "      <td> 3.90</td>\n",
        "      <td> 2.875</td>\n",
        "      <td> 17.02</td>\n",
        "      <td> 0</td>\n",
        "      <td> 1</td>\n",
        "      <td> 4</td>\n",
        "      <td> 4</td>\n",
        "    </tr>\n",
        "    <tr>\n",
        "      <th>3</th>\n",
        "      <td> 21.4</td>\n",
        "      <td> 6</td>\n",
        "      <td> 258</td>\n",
        "      <td> 110</td>\n",
        "      <td> 3.08</td>\n",
        "      <td> 3.215</td>\n",
        "      <td> 19.44</td>\n",
        "      <td> 1</td>\n",
        "      <td> 0</td>\n",
        "      <td> 3</td>\n",
        "      <td> 1</td>\n",
        "    </tr>\n",
        "    <tr>\n",
        "      <th>5</th>\n",
        "      <td> 18.1</td>\n",
        "      <td> 6</td>\n",
        "      <td> 225</td>\n",
        "      <td> 105</td>\n",
        "      <td> 2.76</td>\n",
        "      <td> 3.460</td>\n",
        "      <td> 20.22</td>\n",
        "      <td> 1</td>\n",
        "      <td> 0</td>\n",
        "      <td> 3</td>\n",
        "      <td> 1</td>\n",
        "    </tr>\n",
        "  </tbody>\n",
        "</table>\n",
        "<p>4 rows \u00d7 11 columns</p>\n",
        "</div>"
       ],
       "metadata": {},
       "output_type": "pyout",
       "prompt_number": 172,
       "text": [
        "    mpg  cyl  disp   hp  drat     wt   qsec  vs  am  gear  carb\n",
        "0  21.0    6   160  110  3.90  2.620  16.46   0   1     4     4\n",
        "1  21.0    6   160  110  3.90  2.875  17.02   0   1     4     4\n",
        "3  21.4    6   258  110  3.08  3.215  19.44   1   0     3     1\n",
        "5  18.1    6   225  105  2.76  3.460  20.22   1   0     3     1\n",
        "\n",
        "[4 rows x 11 columns]"
       ]
      }
     ],
     "prompt_number": 172
    },
    {
     "cell_type": "heading",
     "level": 3,
     "metadata": {},
     "source": [
      "Appending"
     ]
    },
    {
     "cell_type": "code",
     "collapsed": false,
     "input": [
      "cars1 = cars[:5]\n",
      "cars2 = cars[7:]\n",
      "newcars = cars1.append(cars2)\n",
      "newcars"
     ],
     "language": "python",
     "metadata": {},
     "outputs": [
      {
       "html": [
        "<div style=\"max-height:1000px;max-width:1500px;overflow:auto;\">\n",
        "<table border=\"1\" class=\"dataframe\">\n",
        "  <thead>\n",
        "    <tr style=\"text-align: right;\">\n",
        "      <th></th>\n",
        "      <th>mpg</th>\n",
        "      <th>cyl</th>\n",
        "      <th>disp</th>\n",
        "      <th>hp</th>\n",
        "      <th>drat</th>\n",
        "      <th>wt</th>\n",
        "      <th>qsec</th>\n",
        "      <th>vs</th>\n",
        "      <th>am</th>\n",
        "      <th>gear</th>\n",
        "      <th>carb</th>\n",
        "    </tr>\n",
        "  </thead>\n",
        "  <tbody>\n",
        "    <tr>\n",
        "      <th>0 </th>\n",
        "      <td> 21.0</td>\n",
        "      <td> 6</td>\n",
        "      <td> 160.0</td>\n",
        "      <td> 110</td>\n",
        "      <td> 3.90</td>\n",
        "      <td> 2.620</td>\n",
        "      <td> 16.46</td>\n",
        "      <td> 0</td>\n",
        "      <td> 1</td>\n",
        "      <td> 4</td>\n",
        "      <td> 4</td>\n",
        "    </tr>\n",
        "    <tr>\n",
        "      <th>1 </th>\n",
        "      <td> 21.0</td>\n",
        "      <td> 6</td>\n",
        "      <td> 160.0</td>\n",
        "      <td> 110</td>\n",
        "      <td> 3.90</td>\n",
        "      <td> 2.875</td>\n",
        "      <td> 17.02</td>\n",
        "      <td> 0</td>\n",
        "      <td> 1</td>\n",
        "      <td> 4</td>\n",
        "      <td> 4</td>\n",
        "    </tr>\n",
        "    <tr>\n",
        "      <th>2 </th>\n",
        "      <td> 22.8</td>\n",
        "      <td> 4</td>\n",
        "      <td> 108.0</td>\n",
        "      <td>  93</td>\n",
        "      <td> 3.85</td>\n",
        "      <td> 2.320</td>\n",
        "      <td> 18.61</td>\n",
        "      <td> 1</td>\n",
        "      <td> 1</td>\n",
        "      <td> 4</td>\n",
        "      <td> 1</td>\n",
        "    </tr>\n",
        "    <tr>\n",
        "      <th>3 </th>\n",
        "      <td> 21.4</td>\n",
        "      <td> 6</td>\n",
        "      <td> 258.0</td>\n",
        "      <td> 110</td>\n",
        "      <td> 3.08</td>\n",
        "      <td> 3.215</td>\n",
        "      <td> 19.44</td>\n",
        "      <td> 1</td>\n",
        "      <td> 0</td>\n",
        "      <td> 3</td>\n",
        "      <td> 1</td>\n",
        "    </tr>\n",
        "    <tr>\n",
        "      <th>4 </th>\n",
        "      <td> 18.7</td>\n",
        "      <td> 8</td>\n",
        "      <td> 360.0</td>\n",
        "      <td> 175</td>\n",
        "      <td> 3.15</td>\n",
        "      <td> 3.440</td>\n",
        "      <td> 17.02</td>\n",
        "      <td> 0</td>\n",
        "      <td> 0</td>\n",
        "      <td> 3</td>\n",
        "      <td> 2</td>\n",
        "    </tr>\n",
        "    <tr>\n",
        "      <th>7 </th>\n",
        "      <td> 24.4</td>\n",
        "      <td> 4</td>\n",
        "      <td> 146.7</td>\n",
        "      <td>  62</td>\n",
        "      <td> 3.69</td>\n",
        "      <td> 3.190</td>\n",
        "      <td> 20.00</td>\n",
        "      <td> 1</td>\n",
        "      <td> 0</td>\n",
        "      <td> 4</td>\n",
        "      <td> 2</td>\n",
        "    </tr>\n",
        "    <tr>\n",
        "      <th>8 </th>\n",
        "      <td> 22.8</td>\n",
        "      <td> 4</td>\n",
        "      <td> 140.8</td>\n",
        "      <td>  95</td>\n",
        "      <td> 3.92</td>\n",
        "      <td> 3.150</td>\n",
        "      <td> 22.90</td>\n",
        "      <td> 1</td>\n",
        "      <td> 0</td>\n",
        "      <td> 4</td>\n",
        "      <td> 2</td>\n",
        "    </tr>\n",
        "    <tr>\n",
        "      <th>9 </th>\n",
        "      <td> 19.2</td>\n",
        "      <td> 6</td>\n",
        "      <td> 167.6</td>\n",
        "      <td> 123</td>\n",
        "      <td> 3.92</td>\n",
        "      <td> 3.440</td>\n",
        "      <td> 18.30</td>\n",
        "      <td> 1</td>\n",
        "      <td> 0</td>\n",
        "      <td> 4</td>\n",
        "      <td> 4</td>\n",
        "    </tr>\n",
        "    <tr>\n",
        "      <th>10</th>\n",
        "      <td> 17.8</td>\n",
        "      <td> 6</td>\n",
        "      <td> 167.6</td>\n",
        "      <td> 123</td>\n",
        "      <td> 3.92</td>\n",
        "      <td> 3.440</td>\n",
        "      <td> 18.90</td>\n",
        "      <td> 1</td>\n",
        "      <td> 0</td>\n",
        "      <td> 4</td>\n",
        "      <td> 4</td>\n",
        "    </tr>\n",
        "    <tr>\n",
        "      <th>11</th>\n",
        "      <td> 16.4</td>\n",
        "      <td> 8</td>\n",
        "      <td> 275.8</td>\n",
        "      <td> 180</td>\n",
        "      <td> 3.07</td>\n",
        "      <td> 4.070</td>\n",
        "      <td> 17.40</td>\n",
        "      <td> 0</td>\n",
        "      <td> 0</td>\n",
        "      <td> 3</td>\n",
        "      <td> 3</td>\n",
        "    </tr>\n",
        "    <tr>\n",
        "      <th>12</th>\n",
        "      <td> 17.3</td>\n",
        "      <td> 8</td>\n",
        "      <td> 275.8</td>\n",
        "      <td> 180</td>\n",
        "      <td> 3.07</td>\n",
        "      <td> 3.730</td>\n",
        "      <td> 17.60</td>\n",
        "      <td> 0</td>\n",
        "      <td> 0</td>\n",
        "      <td> 3</td>\n",
        "      <td> 3</td>\n",
        "    </tr>\n",
        "    <tr>\n",
        "      <th>13</th>\n",
        "      <td> 15.2</td>\n",
        "      <td> 8</td>\n",
        "      <td> 275.8</td>\n",
        "      <td> 180</td>\n",
        "      <td> 3.07</td>\n",
        "      <td> 3.780</td>\n",
        "      <td> 18.00</td>\n",
        "      <td> 0</td>\n",
        "      <td> 0</td>\n",
        "      <td> 3</td>\n",
        "      <td> 3</td>\n",
        "    </tr>\n",
        "    <tr>\n",
        "      <th>14</th>\n",
        "      <td> 10.4</td>\n",
        "      <td> 8</td>\n",
        "      <td> 472.0</td>\n",
        "      <td> 205</td>\n",
        "      <td> 2.93</td>\n",
        "      <td> 5.250</td>\n",
        "      <td> 17.98</td>\n",
        "      <td> 0</td>\n",
        "      <td> 0</td>\n",
        "      <td> 3</td>\n",
        "      <td> 4</td>\n",
        "    </tr>\n",
        "    <tr>\n",
        "      <th>15</th>\n",
        "      <td> 10.4</td>\n",
        "      <td> 8</td>\n",
        "      <td> 460.0</td>\n",
        "      <td> 215</td>\n",
        "      <td> 3.00</td>\n",
        "      <td> 5.424</td>\n",
        "      <td> 17.82</td>\n",
        "      <td> 0</td>\n",
        "      <td> 0</td>\n",
        "      <td> 3</td>\n",
        "      <td> 4</td>\n",
        "    </tr>\n",
        "    <tr>\n",
        "      <th>16</th>\n",
        "      <td> 14.7</td>\n",
        "      <td> 8</td>\n",
        "      <td> 440.0</td>\n",
        "      <td> 230</td>\n",
        "      <td> 3.23</td>\n",
        "      <td> 5.345</td>\n",
        "      <td> 17.42</td>\n",
        "      <td> 0</td>\n",
        "      <td> 0</td>\n",
        "      <td> 3</td>\n",
        "      <td> 4</td>\n",
        "    </tr>\n",
        "    <tr>\n",
        "      <th>17</th>\n",
        "      <td> 32.4</td>\n",
        "      <td> 4</td>\n",
        "      <td>  78.7</td>\n",
        "      <td>  66</td>\n",
        "      <td> 4.08</td>\n",
        "      <td> 2.200</td>\n",
        "      <td> 19.47</td>\n",
        "      <td> 1</td>\n",
        "      <td> 1</td>\n",
        "      <td> 4</td>\n",
        "      <td> 1</td>\n",
        "    </tr>\n",
        "    <tr>\n",
        "      <th>18</th>\n",
        "      <td> 30.4</td>\n",
        "      <td> 4</td>\n",
        "      <td>  75.7</td>\n",
        "      <td>  52</td>\n",
        "      <td> 4.93</td>\n",
        "      <td> 1.615</td>\n",
        "      <td> 18.52</td>\n",
        "      <td> 1</td>\n",
        "      <td> 1</td>\n",
        "      <td> 4</td>\n",
        "      <td> 2</td>\n",
        "    </tr>\n",
        "    <tr>\n",
        "      <th>19</th>\n",
        "      <td> 33.9</td>\n",
        "      <td> 4</td>\n",
        "      <td>  71.1</td>\n",
        "      <td>  65</td>\n",
        "      <td> 4.22</td>\n",
        "      <td> 1.835</td>\n",
        "      <td> 19.90</td>\n",
        "      <td> 1</td>\n",
        "      <td> 1</td>\n",
        "      <td> 4</td>\n",
        "      <td> 1</td>\n",
        "    </tr>\n",
        "    <tr>\n",
        "      <th>20</th>\n",
        "      <td> 21.5</td>\n",
        "      <td> 4</td>\n",
        "      <td> 120.1</td>\n",
        "      <td>  97</td>\n",
        "      <td> 3.70</td>\n",
        "      <td> 2.465</td>\n",
        "      <td> 20.01</td>\n",
        "      <td> 1</td>\n",
        "      <td> 0</td>\n",
        "      <td> 3</td>\n",
        "      <td> 1</td>\n",
        "    </tr>\n",
        "    <tr>\n",
        "      <th>21</th>\n",
        "      <td> 15.5</td>\n",
        "      <td> 8</td>\n",
        "      <td> 318.0</td>\n",
        "      <td> 150</td>\n",
        "      <td> 2.76</td>\n",
        "      <td> 3.520</td>\n",
        "      <td> 16.87</td>\n",
        "      <td> 0</td>\n",
        "      <td> 0</td>\n",
        "      <td> 3</td>\n",
        "      <td> 2</td>\n",
        "    </tr>\n",
        "    <tr>\n",
        "      <th>22</th>\n",
        "      <td> 15.2</td>\n",
        "      <td> 8</td>\n",
        "      <td> 304.0</td>\n",
        "      <td> 150</td>\n",
        "      <td> 3.15</td>\n",
        "      <td> 3.435</td>\n",
        "      <td> 17.30</td>\n",
        "      <td> 0</td>\n",
        "      <td> 0</td>\n",
        "      <td> 3</td>\n",
        "      <td> 2</td>\n",
        "    </tr>\n",
        "    <tr>\n",
        "      <th>23</th>\n",
        "      <td> 13.3</td>\n",
        "      <td> 8</td>\n",
        "      <td> 350.0</td>\n",
        "      <td> 245</td>\n",
        "      <td> 3.73</td>\n",
        "      <td> 3.840</td>\n",
        "      <td> 15.41</td>\n",
        "      <td> 0</td>\n",
        "      <td> 0</td>\n",
        "      <td> 3</td>\n",
        "      <td> 4</td>\n",
        "    </tr>\n",
        "    <tr>\n",
        "      <th>24</th>\n",
        "      <td> 19.2</td>\n",
        "      <td> 8</td>\n",
        "      <td> 400.0</td>\n",
        "      <td> 175</td>\n",
        "      <td> 3.08</td>\n",
        "      <td> 3.845</td>\n",
        "      <td> 17.05</td>\n",
        "      <td> 0</td>\n",
        "      <td> 0</td>\n",
        "      <td> 3</td>\n",
        "      <td> 2</td>\n",
        "    </tr>\n",
        "    <tr>\n",
        "      <th>25</th>\n",
        "      <td> 27.3</td>\n",
        "      <td> 4</td>\n",
        "      <td>  79.0</td>\n",
        "      <td>  66</td>\n",
        "      <td> 4.08</td>\n",
        "      <td> 1.935</td>\n",
        "      <td> 18.90</td>\n",
        "      <td> 1</td>\n",
        "      <td> 1</td>\n",
        "      <td> 4</td>\n",
        "      <td> 1</td>\n",
        "    </tr>\n",
        "    <tr>\n",
        "      <th>26</th>\n",
        "      <td> 26.0</td>\n",
        "      <td> 4</td>\n",
        "      <td> 120.3</td>\n",
        "      <td>  91</td>\n",
        "      <td> 4.43</td>\n",
        "      <td> 2.140</td>\n",
        "      <td> 16.70</td>\n",
        "      <td> 0</td>\n",
        "      <td> 1</td>\n",
        "      <td> 5</td>\n",
        "      <td> 2</td>\n",
        "    </tr>\n",
        "    <tr>\n",
        "      <th>27</th>\n",
        "      <td> 30.4</td>\n",
        "      <td> 4</td>\n",
        "      <td>  95.1</td>\n",
        "      <td> 113</td>\n",
        "      <td> 3.77</td>\n",
        "      <td> 1.513</td>\n",
        "      <td> 16.90</td>\n",
        "      <td> 1</td>\n",
        "      <td> 1</td>\n",
        "      <td> 5</td>\n",
        "      <td> 2</td>\n",
        "    </tr>\n",
        "    <tr>\n",
        "      <th>28</th>\n",
        "      <td> 15.8</td>\n",
        "      <td> 8</td>\n",
        "      <td> 351.0</td>\n",
        "      <td> 264</td>\n",
        "      <td> 4.22</td>\n",
        "      <td> 3.170</td>\n",
        "      <td> 14.50</td>\n",
        "      <td> 0</td>\n",
        "      <td> 1</td>\n",
        "      <td> 5</td>\n",
        "      <td> 4</td>\n",
        "    </tr>\n",
        "    <tr>\n",
        "      <th>29</th>\n",
        "      <td> 19.7</td>\n",
        "      <td> 6</td>\n",
        "      <td> 145.0</td>\n",
        "      <td> 175</td>\n",
        "      <td> 3.62</td>\n",
        "      <td> 2.770</td>\n",
        "      <td> 15.50</td>\n",
        "      <td> 0</td>\n",
        "      <td> 1</td>\n",
        "      <td> 5</td>\n",
        "      <td> 6</td>\n",
        "    </tr>\n",
        "    <tr>\n",
        "      <th>30</th>\n",
        "      <td> 15.0</td>\n",
        "      <td> 8</td>\n",
        "      <td> 301.0</td>\n",
        "      <td> 335</td>\n",
        "      <td> 3.54</td>\n",
        "      <td> 3.570</td>\n",
        "      <td> 14.60</td>\n",
        "      <td> 0</td>\n",
        "      <td> 1</td>\n",
        "      <td> 5</td>\n",
        "      <td> 8</td>\n",
        "    </tr>\n",
        "  </tbody>\n",
        "</table>\n",
        "<p>29 rows \u00d7 11 columns</p>\n",
        "</div>"
       ],
       "metadata": {},
       "output_type": "pyout",
       "prompt_number": 192,
       "text": [
        "     mpg  cyl   disp   hp  drat     wt   qsec  vs  am  gear  carb\n",
        "0   21.0    6  160.0  110  3.90  2.620  16.46   0   1     4     4\n",
        "1   21.0    6  160.0  110  3.90  2.875  17.02   0   1     4     4\n",
        "2   22.8    4  108.0   93  3.85  2.320  18.61   1   1     4     1\n",
        "3   21.4    6  258.0  110  3.08  3.215  19.44   1   0     3     1\n",
        "4   18.7    8  360.0  175  3.15  3.440  17.02   0   0     3     2\n",
        "7   24.4    4  146.7   62  3.69  3.190  20.00   1   0     4     2\n",
        "8   22.8    4  140.8   95  3.92  3.150  22.90   1   0     4     2\n",
        "9   19.2    6  167.6  123  3.92  3.440  18.30   1   0     4     4\n",
        "10  17.8    6  167.6  123  3.92  3.440  18.90   1   0     4     4\n",
        "11  16.4    8  275.8  180  3.07  4.070  17.40   0   0     3     3\n",
        "12  17.3    8  275.8  180  3.07  3.730  17.60   0   0     3     3\n",
        "13  15.2    8  275.8  180  3.07  3.780  18.00   0   0     3     3\n",
        "14  10.4    8  472.0  205  2.93  5.250  17.98   0   0     3     4\n",
        "15  10.4    8  460.0  215  3.00  5.424  17.82   0   0     3     4\n",
        "16  14.7    8  440.0  230  3.23  5.345  17.42   0   0     3     4\n",
        "17  32.4    4   78.7   66  4.08  2.200  19.47   1   1     4     1\n",
        "18  30.4    4   75.7   52  4.93  1.615  18.52   1   1     4     2\n",
        "19  33.9    4   71.1   65  4.22  1.835  19.90   1   1     4     1\n",
        "20  21.5    4  120.1   97  3.70  2.465  20.01   1   0     3     1\n",
        "21  15.5    8  318.0  150  2.76  3.520  16.87   0   0     3     2\n",
        "22  15.2    8  304.0  150  3.15  3.435  17.30   0   0     3     2\n",
        "23  13.3    8  350.0  245  3.73  3.840  15.41   0   0     3     4\n",
        "24  19.2    8  400.0  175  3.08  3.845  17.05   0   0     3     2\n",
        "25  27.3    4   79.0   66  4.08  1.935  18.90   1   1     4     1\n",
        "26  26.0    4  120.3   91  4.43  2.140  16.70   0   1     5     2\n",
        "27  30.4    4   95.1  113  3.77  1.513  16.90   1   1     5     2\n",
        "28  15.8    8  351.0  264  4.22  3.170  14.50   0   1     5     4\n",
        "29  19.7    6  145.0  175  3.62  2.770  15.50   0   1     5     6\n",
        "30  15.0    8  301.0  335  3.54  3.570  14.60   0   1     5     8\n",
        "\n",
        "[29 rows x 11 columns]"
       ]
      }
     ],
     "prompt_number": 192
    },
    {
     "cell_type": "code",
     "collapsed": false,
     "input": [
      "cars3 = cars.loc[:4,'mpg':'cyl']\n",
      "cars4 = cars.loc[2:6,'qsec':'gear']\n",
      "cars3.join(cars4, how='left')"
     ],
     "language": "python",
     "metadata": {},
     "outputs": [
      {
       "html": [
        "<div style=\"max-height:1000px;max-width:1500px;overflow:auto;\">\n",
        "<table border=\"1\" class=\"dataframe\">\n",
        "  <thead>\n",
        "    <tr style=\"text-align: right;\">\n",
        "      <th></th>\n",
        "      <th>mpg</th>\n",
        "      <th>cyl</th>\n",
        "      <th>qsec</th>\n",
        "      <th>vs</th>\n",
        "      <th>am</th>\n",
        "      <th>gear</th>\n",
        "    </tr>\n",
        "  </thead>\n",
        "  <tbody>\n",
        "    <tr>\n",
        "      <th>0</th>\n",
        "      <td> 21.0</td>\n",
        "      <td> 6</td>\n",
        "      <td>   NaN</td>\n",
        "      <td>NaN</td>\n",
        "      <td>NaN</td>\n",
        "      <td>NaN</td>\n",
        "    </tr>\n",
        "    <tr>\n",
        "      <th>1</th>\n",
        "      <td> 21.0</td>\n",
        "      <td> 6</td>\n",
        "      <td>   NaN</td>\n",
        "      <td>NaN</td>\n",
        "      <td>NaN</td>\n",
        "      <td>NaN</td>\n",
        "    </tr>\n",
        "    <tr>\n",
        "      <th>2</th>\n",
        "      <td> 22.8</td>\n",
        "      <td> 4</td>\n",
        "      <td> 18.61</td>\n",
        "      <td>  1</td>\n",
        "      <td>  1</td>\n",
        "      <td>  4</td>\n",
        "    </tr>\n",
        "    <tr>\n",
        "      <th>3</th>\n",
        "      <td> 21.4</td>\n",
        "      <td> 6</td>\n",
        "      <td> 19.44</td>\n",
        "      <td>  1</td>\n",
        "      <td>  0</td>\n",
        "      <td>  3</td>\n",
        "    </tr>\n",
        "    <tr>\n",
        "      <th>4</th>\n",
        "      <td> 18.7</td>\n",
        "      <td> 8</td>\n",
        "      <td> 17.02</td>\n",
        "      <td>  0</td>\n",
        "      <td>  0</td>\n",
        "      <td>  3</td>\n",
        "    </tr>\n",
        "  </tbody>\n",
        "</table>\n",
        "<p>5 rows \u00d7 6 columns</p>\n",
        "</div>"
       ],
       "metadata": {},
       "output_type": "pyout",
       "prompt_number": 201,
       "text": [
        "    mpg  cyl   qsec  vs  am  gear\n",
        "0  21.0    6    NaN NaN NaN   NaN\n",
        "1  21.0    6    NaN NaN NaN   NaN\n",
        "2  22.8    4  18.61   1   1     4\n",
        "3  21.4    6  19.44   1   0     3\n",
        "4  18.7    8  17.02   0   0     3\n",
        "\n",
        "[5 rows x 6 columns]"
       ]
      }
     ],
     "prompt_number": 201
    },
    {
     "cell_type": "heading",
     "level": 2,
     "metadata": {},
     "source": [
      "Split-apply-combine"
     ]
    },
    {
     "cell_type": "markdown",
     "metadata": {},
     "source": [
      "This concept (exemplified by <code>plyr</code> in R) splits a data set by some criterion, applies a function to each piece and then puts the results back together again. "
     ]
    },
    {
     "cell_type": "code",
     "collapsed": false,
     "input": [
      "%pylab inline"
     ],
     "language": "python",
     "metadata": {},
     "outputs": [
      {
       "output_type": "stream",
       "stream": "stdout",
       "text": [
        "Populating the interactive namespace from numpy and matplotlib\n"
       ]
      }
     ],
     "prompt_number": 239
    },
    {
     "cell_type": "code",
     "collapsed": false,
     "input": [
      "carsbycyl = cars.groupby(['cyl','gear'])\n",
      "np.round(carsbycyl.agg([np.mean,np.median,np.std]).loc[:,'mpg':'hp'],2)"
     ],
     "language": "python",
     "metadata": {},
     "outputs": [
      {
       "html": [
        "<div style=\"max-height:1000px;max-width:1500px;overflow:auto;\">\n",
        "<table border=\"1\" class=\"dataframe\">\n",
        "  <thead>\n",
        "    <tr>\n",
        "      <th></th>\n",
        "      <th></th>\n",
        "      <th colspan=\"3\" halign=\"left\">mpg</th>\n",
        "      <th colspan=\"3\" halign=\"left\">disp</th>\n",
        "      <th colspan=\"3\" halign=\"left\">hp</th>\n",
        "    </tr>\n",
        "    <tr>\n",
        "      <th></th>\n",
        "      <th></th>\n",
        "      <th>mean</th>\n",
        "      <th>median</th>\n",
        "      <th>std</th>\n",
        "      <th>mean</th>\n",
        "      <th>median</th>\n",
        "      <th>std</th>\n",
        "      <th>mean</th>\n",
        "      <th>median</th>\n",
        "      <th>std</th>\n",
        "    </tr>\n",
        "    <tr>\n",
        "      <th>cyl</th>\n",
        "      <th>gear</th>\n",
        "      <th></th>\n",
        "      <th></th>\n",
        "      <th></th>\n",
        "      <th></th>\n",
        "      <th></th>\n",
        "      <th></th>\n",
        "      <th></th>\n",
        "      <th></th>\n",
        "      <th></th>\n",
        "    </tr>\n",
        "  </thead>\n",
        "  <tbody>\n",
        "    <tr>\n",
        "      <th rowspan=\"3\" valign=\"top\">4</th>\n",
        "      <th>3</th>\n",
        "      <td> 21.50</td>\n",
        "      <td> 21.50</td>\n",
        "      <td>  NaN</td>\n",
        "      <td> 120.10</td>\n",
        "      <td> 120.1</td>\n",
        "      <td>   NaN</td>\n",
        "      <td>  97.00</td>\n",
        "      <td>  97.0</td>\n",
        "      <td>   NaN</td>\n",
        "    </tr>\n",
        "    <tr>\n",
        "      <th>4</th>\n",
        "      <td> 27.71</td>\n",
        "      <td> 27.30</td>\n",
        "      <td> 4.60</td>\n",
        "      <td> 100.00</td>\n",
        "      <td>  79.0</td>\n",
        "      <td> 32.22</td>\n",
        "      <td>  71.29</td>\n",
        "      <td>  66.0</td>\n",
        "      <td> 16.27</td>\n",
        "    </tr>\n",
        "    <tr>\n",
        "      <th>5</th>\n",
        "      <td> 28.20</td>\n",
        "      <td> 28.20</td>\n",
        "      <td> 3.11</td>\n",
        "      <td> 107.70</td>\n",
        "      <td> 107.7</td>\n",
        "      <td> 17.82</td>\n",
        "      <td> 102.00</td>\n",
        "      <td> 102.0</td>\n",
        "      <td> 15.56</td>\n",
        "    </tr>\n",
        "    <tr>\n",
        "      <th rowspan=\"3\" valign=\"top\">6</th>\n",
        "      <th>3</th>\n",
        "      <td> 19.75</td>\n",
        "      <td> 19.75</td>\n",
        "      <td> 2.33</td>\n",
        "      <td> 241.50</td>\n",
        "      <td> 241.5</td>\n",
        "      <td> 23.33</td>\n",
        "      <td> 107.50</td>\n",
        "      <td> 107.5</td>\n",
        "      <td>  3.54</td>\n",
        "    </tr>\n",
        "    <tr>\n",
        "      <th>4</th>\n",
        "      <td> 19.75</td>\n",
        "      <td> 20.10</td>\n",
        "      <td> 1.55</td>\n",
        "      <td> 163.80</td>\n",
        "      <td> 163.8</td>\n",
        "      <td>  4.39</td>\n",
        "      <td> 116.50</td>\n",
        "      <td> 116.5</td>\n",
        "      <td>  7.51</td>\n",
        "    </tr>\n",
        "    <tr>\n",
        "      <th>5</th>\n",
        "      <td> 19.70</td>\n",
        "      <td> 19.70</td>\n",
        "      <td>  NaN</td>\n",
        "      <td> 145.00</td>\n",
        "      <td> 145.0</td>\n",
        "      <td>   NaN</td>\n",
        "      <td> 175.00</td>\n",
        "      <td> 175.0</td>\n",
        "      <td>   NaN</td>\n",
        "    </tr>\n",
        "    <tr>\n",
        "      <th rowspan=\"2\" valign=\"top\">8</th>\n",
        "      <th>3</th>\n",
        "      <td> 15.05</td>\n",
        "      <td> 15.20</td>\n",
        "      <td> 2.77</td>\n",
        "      <td> 357.62</td>\n",
        "      <td> 355.0</td>\n",
        "      <td> 71.82</td>\n",
        "      <td> 194.17</td>\n",
        "      <td> 180.0</td>\n",
        "      <td> 33.36</td>\n",
        "    </tr>\n",
        "    <tr>\n",
        "      <th>5</th>\n",
        "      <td> 15.40</td>\n",
        "      <td> 15.40</td>\n",
        "      <td> 0.57</td>\n",
        "      <td> 326.00</td>\n",
        "      <td> 326.0</td>\n",
        "      <td> 35.36</td>\n",
        "      <td> 299.50</td>\n",
        "      <td> 299.5</td>\n",
        "      <td> 50.20</td>\n",
        "    </tr>\n",
        "  </tbody>\n",
        "</table>\n",
        "<p>8 rows \u00d7 9 columns</p>\n",
        "</div>"
       ],
       "metadata": {},
       "output_type": "pyout",
       "prompt_number": 255,
       "text": [
        "            mpg                  disp                     hp               \n",
        "           mean  median   std    mean  median    std    mean  median    std\n",
        "cyl gear                                                                   \n",
        "4   3     21.50   21.50   NaN  120.10   120.1    NaN   97.00    97.0    NaN\n",
        "    4     27.71   27.30  4.60  100.00    79.0  32.22   71.29    66.0  16.27\n",
        "    5     28.20   28.20  3.11  107.70   107.7  17.82  102.00   102.0  15.56\n",
        "6   3     19.75   19.75  2.33  241.50   241.5  23.33  107.50   107.5   3.54\n",
        "    4     19.75   20.10  1.55  163.80   163.8   4.39  116.50   116.5   7.51\n",
        "    5     19.70   19.70   NaN  145.00   145.0    NaN  175.00   175.0    NaN\n",
        "8   3     15.05   15.20  2.77  357.62   355.0  71.82  194.17   180.0  33.36\n",
        "    5     15.40   15.40  0.57  326.00   326.0  35.36  299.50   299.5  50.20\n",
        "\n",
        "[8 rows x 9 columns]"
       ]
      }
     ],
     "prompt_number": 255
    },
    {
     "cell_type": "code",
     "collapsed": false,
     "input": [
      "cars.pivot_table(['mpg'],rows=['cyl','gear'], aggfunc=np.median, margins=True)"
     ],
     "language": "python",
     "metadata": {},
     "outputs": [
      {
       "html": [
        "<div style=\"max-height:1000px;max-width:1500px;overflow:auto;\">\n",
        "<table border=\"1\" class=\"dataframe\">\n",
        "  <thead>\n",
        "    <tr style=\"text-align: right;\">\n",
        "      <th></th>\n",
        "      <th></th>\n",
        "      <th>mpg</th>\n",
        "    </tr>\n",
        "    <tr>\n",
        "      <th>cyl</th>\n",
        "      <th>gear</th>\n",
        "      <th></th>\n",
        "    </tr>\n",
        "  </thead>\n",
        "  <tbody>\n",
        "    <tr>\n",
        "      <th rowspan=\"3\" valign=\"top\">4.0</th>\n",
        "      <th>3.0</th>\n",
        "      <td> 21.50</td>\n",
        "    </tr>\n",
        "    <tr>\n",
        "      <th>4.0</th>\n",
        "      <td> 27.30</td>\n",
        "    </tr>\n",
        "    <tr>\n",
        "      <th>5.0</th>\n",
        "      <td> 28.20</td>\n",
        "    </tr>\n",
        "    <tr>\n",
        "      <th rowspan=\"3\" valign=\"top\">6.0</th>\n",
        "      <th>3.0</th>\n",
        "      <td> 19.75</td>\n",
        "    </tr>\n",
        "    <tr>\n",
        "      <th>4.0</th>\n",
        "      <td> 20.10</td>\n",
        "    </tr>\n",
        "    <tr>\n",
        "      <th>5.0</th>\n",
        "      <td> 19.70</td>\n",
        "    </tr>\n",
        "    <tr>\n",
        "      <th rowspan=\"2\" valign=\"top\">8.0</th>\n",
        "      <th>3.0</th>\n",
        "      <td> 15.20</td>\n",
        "    </tr>\n",
        "    <tr>\n",
        "      <th>5.0</th>\n",
        "      <td> 15.40</td>\n",
        "    </tr>\n",
        "    <tr>\n",
        "      <th>All</th>\n",
        "      <th></th>\n",
        "      <td> 19.20</td>\n",
        "    </tr>\n",
        "  </tbody>\n",
        "</table>\n",
        "<p>9 rows \u00d7 1 columns</p>\n",
        "</div>"
       ],
       "metadata": {},
       "output_type": "pyout",
       "prompt_number": 222,
       "text": [
        "            mpg\n",
        "cyl gear       \n",
        "4.0 3.0   21.50\n",
        "    4.0   27.30\n",
        "    5.0   28.20\n",
        "6.0 3.0   19.75\n",
        "    4.0   20.10\n",
        "    5.0   19.70\n",
        "8.0 3.0   15.20\n",
        "    5.0   15.40\n",
        "All       19.20\n",
        "\n",
        "[9 rows x 1 columns]"
       ]
      }
     ],
     "prompt_number": 222
    },
    {
     "cell_type": "heading",
     "level": 2,
     "metadata": {},
     "source": [
      "Other data imports"
     ]
    },
    {
     "cell_type": "heading",
     "level": 3,
     "metadata": {},
     "source": [
      "Compressed data files"
     ]
    },
    {
     "cell_type": "code",
     "collapsed": false,
     "input": [
      "import os\n",
      "os.listdir('data/Rlogs')"
     ],
     "language": "python",
     "metadata": {},
     "outputs": [
      {
       "metadata": {},
       "output_type": "pyout",
       "prompt_number": 275,
       "text": [
        "['2014-02-01.csv.gz',\n",
        " '2014-02-02.csv.gz',\n",
        " '2014-02-03.csv.gz',\n",
        " '2014-02-04.csv.gz',\n",
        " '2014-02-05.csv.gz',\n",
        " '2014-02-06.csv.gz',\n",
        " '2014-02-07.csv.gz',\n",
        " '2014-02-08.csv.gz',\n",
        " '2014-02-09.csv.gz',\n",
        " '2014-02-10.csv.gz',\n",
        " '2014-02-11.csv.gz',\n",
        " '2014-02-12.csv.gz',\n",
        " '2014-02-13.csv.gz',\n",
        " '2014-02-14.csv.gz']"
       ]
      }
     ],
     "prompt_number": 275
    },
    {
     "cell_type": "code",
     "collapsed": false,
     "input": [
      "log1 = pd.read_csv('data/Rlogs/2014-02-09.csv.gz',\n",
      "                   parse_dates={'Timestamp':['date','time']},\n",
      "                   index_col='Timestamp',\n",
      "                   compression='gzip')\n",
      "log1.head()"
     ],
     "language": "python",
     "metadata": {},
     "outputs": [
      {
       "html": [
        "<div style=\"max-height:1000px;max-width:1500px;overflow:auto;\">\n",
        "<table border=\"1\" class=\"dataframe\">\n",
        "  <thead>\n",
        "    <tr style=\"text-align: right;\">\n",
        "      <th></th>\n",
        "      <th>size</th>\n",
        "      <th>r_version</th>\n",
        "      <th>r_arch</th>\n",
        "      <th>r_os</th>\n",
        "      <th>package</th>\n",
        "      <th>version</th>\n",
        "      <th>country</th>\n",
        "      <th>ip_id</th>\n",
        "    </tr>\n",
        "    <tr>\n",
        "      <th>Timestamp</th>\n",
        "      <th></th>\n",
        "      <th></th>\n",
        "      <th></th>\n",
        "      <th></th>\n",
        "      <th></th>\n",
        "      <th></th>\n",
        "      <th></th>\n",
        "      <th></th>\n",
        "    </tr>\n",
        "  </thead>\n",
        "  <tbody>\n",
        "    <tr>\n",
        "      <th>2014-02-09 00:13:33</th>\n",
        "      <td> 280939</td>\n",
        "      <td> 3.0.1</td>\n",
        "      <td> x86_64</td>\n",
        "      <td>   mingw32</td>\n",
        "      <td> lmtest</td>\n",
        "      <td> 0.9-33</td>\n",
        "      <td> US</td>\n",
        "      <td> 1</td>\n",
        "    </tr>\n",
        "    <tr>\n",
        "      <th>2014-02-09 00:14:53</th>\n",
        "      <td>  37387</td>\n",
        "      <td> 3.0.2</td>\n",
        "      <td>   i686</td>\n",
        "      <td> linux-gnu</td>\n",
        "      <td> matlab</td>\n",
        "      <td>  0.8.9</td>\n",
        "      <td> IE</td>\n",
        "      <td> 2</td>\n",
        "    </tr>\n",
        "    <tr>\n",
        "      <th>2014-02-09 00:25:55</th>\n",
        "      <td> 177796</td>\n",
        "      <td> 3.0.1</td>\n",
        "      <td> x86_64</td>\n",
        "      <td> linux-gnu</td>\n",
        "      <td> lmtest</td>\n",
        "      <td> 0.9-33</td>\n",
        "      <td> US</td>\n",
        "      <td> 3</td>\n",
        "    </tr>\n",
        "    <tr>\n",
        "      <th>2014-02-09 00:40:34</th>\n",
        "      <td> 236520</td>\n",
        "      <td> 3.0.2</td>\n",
        "      <td>   i386</td>\n",
        "      <td>   mingw32</td>\n",
        "      <td>  space</td>\n",
        "      <td>  0.1-1</td>\n",
        "      <td> IR</td>\n",
        "      <td> 4</td>\n",
        "    </tr>\n",
        "    <tr>\n",
        "      <th>2014-02-09 00:40:13</th>\n",
        "      <td> 197520</td>\n",
        "      <td>   NaN</td>\n",
        "      <td>    NaN</td>\n",
        "      <td>       NaN</td>\n",
        "      <td>   coda</td>\n",
        "      <td> 0.16-1</td>\n",
        "      <td> JP</td>\n",
        "      <td> 5</td>\n",
        "    </tr>\n",
        "  </tbody>\n",
        "</table>\n",
        "<p>5 rows \u00d7 8 columns</p>\n",
        "</div>"
       ],
       "metadata": {},
       "output_type": "pyout",
       "prompt_number": 102,
       "text": [
        "                       size r_version  r_arch       r_os package version  \\\n",
        "Timestamp                                                                  \n",
        "2014-02-09 00:13:33  280939     3.0.1  x86_64    mingw32  lmtest  0.9-33   \n",
        "2014-02-09 00:14:53   37387     3.0.2    i686  linux-gnu  matlab   0.8.9   \n",
        "2014-02-09 00:25:55  177796     3.0.1  x86_64  linux-gnu  lmtest  0.9-33   \n",
        "2014-02-09 00:40:34  236520     3.0.2    i386    mingw32   space   0.1-1   \n",
        "2014-02-09 00:40:13  197520       NaN     NaN        NaN    coda  0.16-1   \n",
        "\n",
        "                    country  ip_id  \n",
        "Timestamp                           \n",
        "2014-02-09 00:13:33      US      1  \n",
        "2014-02-09 00:14:53      IE      2  \n",
        "2014-02-09 00:25:55      US      3  \n",
        "2014-02-09 00:40:34      IR      4  \n",
        "2014-02-09 00:40:13      JP      5  \n",
        "\n",
        "[5 rows x 8 columns]"
       ]
      }
     ],
     "prompt_number": 102
    },
    {
     "cell_type": "code",
     "collapsed": false,
     "input": [
      "import os\n",
      "logfiles = os.listdir('data/Rlogs')\n",
      "inputs = []\n",
      "for f in logfiles:\n",
      "    inputs.append(pd.read_csv(os.path.join('data/Rlogs',f),\n",
      "                              index_col='Timestamp',\n",
      "                              compression='gzip', \n",
      "                              parse_dates={'Timestamp':['date','time']}))\n",
      "                        \n",
      "\n",
      "logs = inputs[0].append(inputs[1:])"
     ],
     "language": "python",
     "metadata": {},
     "outputs": [],
     "prompt_number": 103
    },
    {
     "cell_type": "code",
     "collapsed": false,
     "input": [
      "logs.groupby(logs.index.day)['r_os'].count().plot()"
     ],
     "language": "python",
     "metadata": {},
     "outputs": [
      {
       "metadata": {},
       "output_type": "pyout",
       "prompt_number": 109,
       "text": [
        "<matplotlib.axes.AxesSubplot at 0x10cde9590>"
       ]
      },
      {
       "metadata": {},
       "output_type": "display_data",
       "png": "[encoded data removed]",
       "text": [
        "<matplotlib.figure.Figure at 0x10cde9290>"
       ]
      }
     ],
     "prompt_number": 109
    },
    {
     "cell_type": "code",
     "collapsed": false,
     "input": [
      "def comptype(ops):\n",
      "    ops = str(ops)\n",
      "    if ops.find('ming')>-1:\n",
      "        ops = 'Win'\n",
      "    elif ops.find('darwin')>-1:\n",
      "        ops='Mac'\n",
      "    elif ops.find('linux')>-1:\n",
      "        ops='Linux'\n",
      "    else:\n",
      "        ops='Other'    \n",
      "    return ops\n"
     ],
     "language": "python",
     "metadata": {},
     "outputs": [],
     "prompt_number": 51
    },
    {
     "cell_type": "code",
     "collapsed": false,
     "input": [
      "logs['r_os'].map(comptype).value_counts()"
     ],
     "language": "python",
     "metadata": {},
     "outputs": [
      {
       "metadata": {},
       "output_type": "pyout",
       "prompt_number": 55,
       "text": [
        "Win      1106779\n",
        "Mac       266914\n",
        "Linux     222224\n",
        "Other      46692\n",
        "dtype: int64"
       ]
      }
     ],
     "prompt_number": 55
    },
    {
     "cell_type": "heading",
     "level": 3,
     "metadata": {},
     "source": [
      "SQLite"
     ]
    },
    {
     "cell_type": "code",
     "collapsed": false,
     "input": [
      "import sqlite3\n",
      "from pandas.io import sql\n",
      "cnx = sqlite3.connect('data/mydb.sqlite')"
     ],
     "language": "python",
     "metadata": {},
     "outputs": [],
     "prompt_number": 303
    },
    {
     "cell_type": "code",
     "collapsed": false,
     "input": [
      "sql.read_sql(\"select * from phenotype where sex = 'MALE' and bmi < 20;\",cnx)"
     ],
     "language": "python",
     "metadata": {},
     "outputs": [
      {
       "html": [
        "<div style=\"max-height:1000px;max-width:1500px;overflow:auto;\">\n",
        "<table border=\"1\" class=\"dataframe\">\n",
        "  <thead>\n",
        "    <tr style=\"text-align: right;\">\n",
        "      <th></th>\n",
        "      <th>X</th>\n",
        "      <th>sex</th>\n",
        "      <th>sbp</th>\n",
        "      <th>dbp</th>\n",
        "      <th>bmi</th>\n",
        "      <th>id</th>\n",
        "    </tr>\n",
        "  </thead>\n",
        "  <tbody>\n",
        "    <tr>\n",
        "      <th>0</th>\n",
        "      <td> 486</td>\n",
        "      <td> MALE</td>\n",
        "      <td> 132</td>\n",
        "      <td> 76</td>\n",
        "      <td> 16</td>\n",
        "      <td> 45516</td>\n",
        "    </tr>\n",
        "    <tr>\n",
        "      <th>1</th>\n",
        "      <td> 304</td>\n",
        "      <td> MALE</td>\n",
        "      <td> 151</td>\n",
        "      <td> 81</td>\n",
        "      <td> 18</td>\n",
        "      <td> 32125</td>\n",
        "    </tr>\n",
        "    <tr>\n",
        "      <th>2</th>\n",
        "      <td> 933</td>\n",
        "      <td> MALE</td>\n",
        "      <td> 148</td>\n",
        "      <td> 89</td>\n",
        "      <td> 18</td>\n",
        "      <td> 21503</td>\n",
        "    </tr>\n",
        "  </tbody>\n",
        "</table>\n",
        "<p>3 rows \u00d7 6 columns</p>\n",
        "</div>"
       ],
       "metadata": {},
       "output_type": "pyout",
       "prompt_number": 311,
       "text": [
        "     X   sex  sbp  dbp  bmi     id\n",
        "0  486  MALE  132   76   16  45516\n",
        "1  304  MALE  151   81   18  32125\n",
        "2  933  MALE  148   89   18  21503\n",
        "\n",
        "[3 rows x 6 columns]"
       ]
      }
     ],
     "prompt_number": 311
    },
    {
     "cell_type": "heading",
     "level": 2,
     "metadata": {},
     "source": [
      "Basic Visualization"
     ]
    },
    {
     "cell_type": "code",
     "collapsed": false,
     "input": [
      "%pylab inline\n",
      "import matplotlib.pyplot as plt"
     ],
     "language": "python",
     "metadata": {},
     "outputs": [
      {
       "output_type": "stream",
       "stream": "stdout",
       "text": [
        "Populating the interactive namespace from numpy and matplotlib\n"
       ]
      },
      {
       "output_type": "stream",
       "stream": "stderr",
       "text": [
        "WARNING: pylab import has clobbered these variables: ['f']\n",
        "`%pylab --no-import-all` prevents importing * from pylab and numpy\n"
       ]
      }
     ],
     "prompt_number": 110
    },
    {
     "cell_type": "code",
     "collapsed": false,
     "input": [
      "cars.mpg.plot(kind='kde')"
     ],
     "language": "python",
     "metadata": {},
     "outputs": [
      {
       "metadata": {},
       "output_type": "pyout",
       "prompt_number": 131,
       "text": [
        "<matplotlib.axes.AxesSubplot at 0x10830ed10>"
       ]
      },
      {
       "metadata": {},
       "output_type": "display_data",
       "png": "[encoded data removed]",
       "text": [
        "<matplotlib.figure.Figure at 0x10ca03110>"
       ]
      }
     ],
     "prompt_number": 131
    },
    {
     "cell_type": "code",
     "collapsed": false,
     "input": [
      "plt.plot(cars.wt,cars.mpg,'ro');"
     ],
     "language": "python",
     "metadata": {},
     "outputs": [
      {
       "metadata": {},
       "output_type": "display_data",
       "png": "[encoded data removed]",
       "text": [
        "<matplotlib.figure.Figure at 0x108609990>"
       ]
      }
     ],
     "prompt_number": 125
    },
    {
     "cell_type": "code",
     "collapsed": false,
     "input": [
      "cars.boxplot('mpg',by='cyl')\n"
     ],
     "language": "python",
     "metadata": {},
     "outputs": [
      {
       "metadata": {},
       "output_type": "pyout",
       "prompt_number": 126,
       "text": [
        "<matplotlib.axes.AxesSubplot at 0x112de1f50>"
       ]
      },
      {
       "metadata": {},
       "output_type": "display_data",
       "png": "[encoded data removed]",
       "text": [
        "<matplotlib.figure.Figure at 0x10bc82810>"
       ]
      }
     ],
     "prompt_number": 126
    },
    {
     "cell_type": "code",
     "collapsed": false,
     "input": [
      "cars.cyl.value_counts().plot(kind='bar')"
     ],
     "language": "python",
     "metadata": {},
     "outputs": [
      {
       "metadata": {},
       "output_type": "pyout",
       "prompt_number": 132,
       "text": [
        "<matplotlib.axes.AxesSubplot at 0x112806350>"
       ]
      },
      {
       "metadata": {},
       "output_type": "display_data",
       "png": "[encoded data removed]",
       "text": [
        "<matplotlib.figure.Figure at 0x1086220d0>"
       ]
      }
     ],
     "prompt_number": 132
    },
    {
     "cell_type": "code",
     "collapsed": false,
     "input": [
      "_ = pd.scatter_matrix(cars, figsize=(20,14))"
     ],
     "language": "python",
     "metadata": {},
     "outputs": [
      {
       "metadata": {},
       "output_type": "display_data",
       "png": "[encoded data removed]",
       "text": [
        "<matplotlib.figure.Figure at 0x126b07690>"
       ]
      }
     ],
     "prompt_number": 134
    },
    {
     "cell_type": "code",
     "collapsed": false,
     "input": [
      "from IPython.core.display import HTML\n",
      "def css_styling():\n",
      "    styles = open(\"styles/custom.css\", \"r\").read()\n",
      "    return HTML(styles)\n",
      "css_styling()"
     ],
     "language": "python",
     "metadata": {},
     "outputs": [
      {
       "html": [
        "<style>\n",
        "    div.cell{\n",
        "        margin-left:auto;\n",
        "        margin-right:auto;\n",
        "    }\n",
        "    h1 {\n",
        "        font-family: Helvetica, serif;\n",
        "        font-size: 150%;\n",
        "    }\n",
        "    h2 {\n",
        "        font-size: 150%;\n",
        "    }\n",
        "    h4{\n",
        "        margin-top:12px;\n",
        "        margin-bottom: 3px;\n",
        "       }\n",
        "    div.text_cell_render{\n",
        "        font-family: \"Helvetica Neue\", Arial, Helvetica, Geneva, sans-serif;\n",
        "        line-height: 145%;\n",
        "        font-size: 150%;\n",
        "        margin-left:auto;\n",
        "        margin-right:auto;\n",
        "    }\n",
        "    ul, li {\n",
        "        padding: 10px;\n",
        "    }\n",
        "    .CodeMirror{\n",
        "            font-family: \"Source Code Pro\", source-code-pro,Consolas, monospace;\n",
        "            font-size: 150%;\n",
        "    }\n",
        "    div.output{\n",
        "        font-size:150%;\n",
        "    }\n",
        "    .prompt{\n",
        "        display: None;\n",
        "    }\n",
        "    .text_cell_render h5 {\n",
        "        font-weight: 300;\n",
        "        font-size: 22pt;\n",
        "        color: #4057A1;\n",
        "        font-style: italic;\n",
        "        margin-bottom: .5em;\n",
        "        margin-top: 0.5em;\n",
        "        display: block;\n",
        "    }\n",
        "    \n",
        "    .warning{\n",
        "        color: rgb( 240, 20, 20 )\n",
        "        }  \n",
        "</style>\n",
        "\n"
       ],
       "metadata": {},
       "output_type": "pyout",
       "prompt_number": 24,
       "text": [
        "<IPython.core.display.HTML at 0x1027c4dd0>"
       ]
      }
     ],
     "prompt_number": 24
    }
   ],
   "metadata": {}
  }
 ]
}